{
 "cells": [
  {
   "cell_type": "markdown",
   "id": "61278a26-295b-4d0d-b40e-90c474b922bd",
   "metadata": {},
   "source": [
    "# Functions"
   ]
  },
  {
   "cell_type": "markdown",
   "id": "3374de50-2d59-4dac-b20a-2bd985384d2c",
   "metadata": {},
   "source": [
    "***"
   ]
  },
  {
   "cell_type": "markdown",
   "id": "8558ee0c-fb23-4974-ad34-08b70860c848",
   "metadata": {},
   "source": [
    "Functions are two types in python. there are\n",
    "1) Function defination\n",
    "2) Function calling\n",
    "\n",
    "* Arguments - variable passed in the call\n",
    "* parameter - "
   ]
  },
  {
   "cell_type": "code",
   "execution_count": 5,
   "id": "2810e9df-2b36-445b-9aa9-f1d8335c8676",
   "metadata": {},
   "outputs": [
    {
     "name": "stdin",
     "output_type": "stream",
     "text": [
      " Rkce\n"
     ]
    },
    {
     "name": "stdout",
     "output_type": "stream",
     "text": [
      "Hello Rkce students, \n",
      "I am balu naik \n"
     ]
    }
   ],
   "source": [
    "def balu(college):      # function defination and also (defines the parameters)\n",
    "    print(f\"\"\"Hello {college} students, \n",
    "I am balu naik \"\"\")\n",
    "\n",
    "college = input()      # college is a variable that can passed the arguments first and parameter second\n",
    "balu(college)         # function call and (defines the arguments)\n",
    "\n",
    "    "
   ]
  },
  {
   "cell_type": "code",
   "execution_count": 7,
   "id": "8528ad73-751a-471c-8136-b466300522c3",
   "metadata": {},
   "outputs": [
    {
     "name": "stdout",
     "output_type": "stream",
     "text": [
      "8\n"
     ]
    }
   ],
   "source": [
    "# It can defines the adding the two elements\n",
    "def summation(a, b):\n",
    "    print(a + b)\n",
    "\n",
    "a = 3\n",
    "b = 5\n",
    "summation(a, b)"
   ]
  },
  {
   "cell_type": "code",
   "execution_count": 10,
   "id": "cab90654-9773-481a-8997-f315713c7c3a",
   "metadata": {},
   "outputs": [
    {
     "name": "stdout",
     "output_type": "stream",
     "text": [
      "80\n"
     ]
    }
   ],
   "source": [
    "# Its can find the first adding and after the multiplying\n",
    "def summation(a, b):\n",
    "    return a+b\n",
    "\n",
    "a = 3\n",
    "b = 5\n",
    "result = summation(a, b)\n",
    "print(result * 10)"
   ]
  },
  {
   "cell_type": "code",
   "execution_count": 18,
   "id": "9f5b8365-91c5-442f-8b64-3132496f3d27",
   "metadata": {},
   "outputs": [
    {
     "name": "stdout",
     "output_type": "stream",
     "text": [
      "5\n",
      "Hello\n"
     ]
    }
   ],
   "source": [
    "# position arguments   ==> arguments lo raseve parameters lo rayalsina avasaram ledhu\n",
    "def summation(v1, v2):\n",
    "    print(v1)\n",
    "    print(v2)\n",
    "\n",
    "a = \"Hello\"\n",
    "b = 5\n",
    "summation(b, a)"
   ]
  },
  {
   "cell_type": "code",
   "execution_count": 19,
   "id": "bbb8c0ad-25d2-4837-8ff7-305c54ebaa64",
   "metadata": {},
   "outputs": [
    {
     "name": "stdout",
     "output_type": "stream",
     "text": [
      "Hello\n"
     ]
    }
   ],
   "source": [
    "def summation(v1, v2):\n",
    "    print(v1)\n",
    "\n",
    "a = \"Hello\"\n",
    "b = 5\n",
    "summation(a, b)"
   ]
  },
  {
   "cell_type": "code",
   "execution_count": 20,
   "id": "71e87b4c-4a48-42f0-8a19-a8060fde4d54",
   "metadata": {},
   "outputs": [
    {
     "name": "stdout",
     "output_type": "stream",
     "text": [
      "Hello\n"
     ]
    }
   ],
   "source": [
    "def summation(v1, v2):\n",
    "    return v2\n",
    "\n",
    "a = \"Hello\"\n",
    "b = 5\n",
    "\n",
    "result = summation(b, a)\n",
    "print(result)\n"
   ]
  },
  {
   "cell_type": "code",
   "execution_count": 41,
   "id": "e6ec0953-2e2f-4f50-9f84-704bc6eeed7c",
   "metadata": {},
   "outputs": [
    {
     "name": "stdin",
     "output_type": "stream",
     "text": [
      " 24\n"
     ]
    },
    {
     "name": "stdout",
     "output_type": "stream",
     "text": [
      "8\n"
     ]
    }
   ],
   "source": [
    "def factors_count(n):\n",
    "    count = 0\n",
    "    for i in range(1, n+1):\n",
    "        if n % i == 0:\n",
    "            count = count + 1\n",
    "    return count\n",
    "\n",
    "n = int(input())\n",
    "print(factors_count(n))"
   ]
  },
  {
   "cell_type": "code",
   "execution_count": 46,
   "id": "dc5f1edf-217f-4e41-b4b6-a635d75359af",
   "metadata": {},
   "outputs": [
    {
     "name": "stdout",
     "output_type": "stream",
     "text": [
      "3\n"
     ]
    }
   ],
   "source": [
    "import math\n",
    "\n",
    "print(int(math.sqrt(10)))"
   ]
  },
  {
   "cell_type": "code",
   "execution_count": 53,
   "id": "cf8026b4-9737-464b-b902-9697c6726159",
   "metadata": {},
   "outputs": [
    {
     "name": "stdin",
     "output_type": "stream",
     "text": [
      " 24\n"
     ]
    },
    {
     "name": "stdout",
     "output_type": "stream",
     "text": [
      "8\n"
     ]
    }
   ],
   "source": [
    "import math\n",
    "def factors_count(n):\n",
    "    count = 0\n",
    "    for i in range(1, int(math.sqrt(n))+1):\n",
    "        if n % i == 0:\n",
    "            count = count + 2\n",
    "    return count\n",
    "\n",
    "n = int(input())\n",
    "print(factors_count(n))"
   ]
  },
  {
   "cell_type": "code",
   "execution_count": 52,
   "id": "66f34482-6a57-4ed0-a03f-05e991732fbd",
   "metadata": {},
   "outputs": [
    {
     "name": "stdin",
     "output_type": "stream",
     "text": [
      " 24\n"
     ]
    },
    {
     "name": "stdout",
     "output_type": "stream",
     "text": [
      "8\n"
     ]
    }
   ],
   "source": [
    "# It can represents counting to the factors \n",
    "import math\n",
    "def factors_count(n):\n",
    "    count = 0\n",
    "    for i in range(1, int(math.sqrt(n))+1):\n",
    "        if n % i == 0:\n",
    "            if i == n/i:\n",
    "                count = count + 1\n",
    "            else:\n",
    "                count = count + 2\n",
    "    return count\n",
    "\n",
    "n = int(input())\n",
    "print(factors_count(n))"
   ]
  },
  {
   "cell_type": "code",
   "execution_count": 63,
   "id": "6ba74e9e-08dc-45f1-93c0-117786051b57",
   "metadata": {},
   "outputs": [
    {
     "name": "stdin",
     "output_type": "stream",
     "text": [
      " 17\n"
     ]
    },
    {
     "name": "stdout",
     "output_type": "stream",
     "text": [
      "Prime\n"
     ]
    }
   ],
   "source": [
    "# It can be represents the prime number or not\n",
    "import math\n",
    "def isPrime(n):\n",
    "    if n == 1:\n",
    "        return \"One is neither prime not composite\"\n",
    "    count = 2\n",
    "    for i in range(2, int(math.sqrt(n))+1):\n",
    "        if n % i == 0:\n",
    "            return \"Not prime\"    # False also define\n",
    "    return \"Prime\"                # True also define\n",
    "\n",
    "n = int(input())\n",
    "print(isPrime(n))"
   ]
  },
  {
   "cell_type": "code",
   "execution_count": 69,
   "id": "59fa469d-0745-4ac6-af99-1cf2042c7c5e",
   "metadata": {},
   "outputs": [
    {
     "name": "stdin",
     "output_type": "stream",
     "text": [
      " 20\n"
     ]
    },
    {
     "name": "stdout",
     "output_type": "stream",
     "text": [
      "2 3 5 7 11 13 17 19 "
     ]
    }
   ],
   "source": [
    "# it can be represents the prime range \n",
    "import math\n",
    "def isPrime(n):\n",
    "    if n == 1:\n",
    "        return False\n",
    "    # count = 2\n",
    "    for j in range(2, int(math.sqrt(n))+1):\n",
    "        if n % j == 0:\n",
    "            return False\n",
    "    return True\n",
    "\n",
    "def Prime_range(m):\n",
    "    for i in range(2, m+1):\n",
    "        if isPrime(i) == True:\n",
    "            print(i, end=\" \")\n",
    "        \n",
    "m = int(input())\n",
    "Prime_range(m)"
   ]
  },
  {
   "cell_type": "code",
   "execution_count": 93,
   "id": "59177c2f-0c10-480b-8ac9-cae4c54bde40",
   "metadata": {},
   "outputs": [
    {
     "name": "stdin",
     "output_type": "stream",
     "text": [
      " 24\n"
     ]
    },
    {
     "name": "stdout",
     "output_type": "stream",
     "text": [
      "9\n"
     ]
    }
   ],
   "source": [
    "# it can be represents the prime range \n",
    "import math\n",
    "def isPrime(n):\n",
    "    if n == 1:\n",
    "        return False\n",
    "    # count = 2\n",
    "    for j in range(2, int(math.sqrt(n))+1):\n",
    "        if n % j == 0:\n",
    "            return False\n",
    "    return True\n",
    "\n",
    "def Prime_range(m):\n",
    "    summ = 0\n",
    "    for i in range(2, m+1):\n",
    "        if isPrime(i) == True:\n",
    "            summ += 1\n",
    "    return summ\n",
    "        \n",
    "m = int(input())\n",
    "print(Prime_range(m))"
   ]
  },
  {
   "cell_type": "code",
   "execution_count": 6,
   "id": "88c01741-dfb7-432f-8900-4cc2cb76f4fa",
   "metadata": {},
   "outputs": [
    {
     "name": "stdout",
     "output_type": "stream",
     "text": [
      "18\n"
     ]
    }
   ],
   "source": [
    "# it can represents the maximum value\n",
    "def second_maxi(array):\n",
    "    # array = list(set(array))\n",
    "    # array.sort()\n",
    "    # return array[-2]\n",
    "    maxi = float(\"-inf\")\n",
    "    second_maxi = float(\"-inf\")\n",
    "    for ele in array:\n",
    "        if ele > maxi:\n",
    "            second_maxi = maxi\n",
    "            maxi = ele\n",
    "    return maxi\n",
    "\n",
    "\n",
    "array = [18,15,16,17]\n",
    "print(second_maxi(array))"
   ]
  },
  {
   "cell_type": "code",
   "execution_count": 10,
   "id": "e81f2459-3dbd-43c6-98df-2eb2709440e8",
   "metadata": {},
   "outputs": [
    {
     "name": "stdout",
     "output_type": "stream",
     "text": [
      "-inf\n"
     ]
    }
   ],
   "source": [
    "# it can represents the maximum value\n",
    "def second_maxi(array):\n",
    "    # array = list(set(array))\n",
    "    # array.sort()\n",
    "    # return array[-2]\n",
    "    maxi = float(\"-inf\")\n",
    "    second_maxi = float(\"-inf\")\n",
    "    for ele in array:\n",
    "        if ele > maxi:\n",
    "            second_maxi = maxi\n",
    "            maxi = ele\n",
    "        elif ele > second_maxi and ele != maxi:\n",
    "            second_maxi = ele\n",
    "            \n",
    "    return second_maxi\n",
    "\n",
    "\n",
    "array = [18,18,18,18]\n",
    "print(second_maxi(array))"
   ]
  },
  {
   "cell_type": "code",
   "execution_count": 29,
   "id": "03c39eb3-6d0c-4344-bceb-063d12dcbe76",
   "metadata": {},
   "outputs": [
    {
     "name": "stdout",
     "output_type": "stream",
     "text": [
      "19\n"
     ]
    }
   ],
   "source": [
    "# it can represents the maximum value\n",
    "def second_maxi(array):\n",
    "\n",
    "    maxi = float(\"-inf\")\n",
    "    second_maxi = float(\"-inf\")\n",
    "    for ele in array:\n",
    "        if ele > maxi:\n",
    "            second_maxi = maxi\n",
    "            maxi = ele\n",
    "        elif ele > second_maxi and ele != maxi:\n",
    "            second_maxi = ele\n",
    "\n",
    "    if second_maxi == float(\"-inf\"):\n",
    "        return \"No Second_maxi\"\n",
    "    return second_maxi\n",
    "    \n",
    "\n",
    "array = [19,18,20,17,16]\n",
    "print(second_maxi(array))"
   ]
  },
  {
   "cell_type": "code",
   "execution_count": 37,
   "id": "0d7bd2d4-8c0b-4218-9857-86f3122ac727",
   "metadata": {},
   "outputs": [
    {
     "name": "stdin",
     "output_type": "stream",
     "text": [
      " 3 2 1 7 5 4\n"
     ]
    },
    {
     "name": "stdout",
     "output_type": "stream",
     "text": [
      "7\n"
     ]
    }
   ],
   "source": [
    "# You are required to implement the following Function def LargeSmallSum(arr).\n",
    "# The function accepts an integers arr of size 'length' as its arguments you are required to return the sum of second largest largest element from the even positions and second largest from the odd position of given 'arr'.\n",
    "\n",
    "# Assumption:\n",
    "\n",
    "# All array elements are unique\n",
    "# Treat the Oth position as even\n",
    "\n",
    "# NOTE\n",
    "\n",
    "# Return O if array is empty\n",
    "# Return 0, if array length is 3 or less than 3\n",
    "\n",
    "# Example:-\n",
    "\n",
    "# Input\n",
    "# arr:3 2 1 7 5 4\n",
    "\n",
    "# Output\n",
    "# 7\n",
    "\n",
    "\n",
    "array = list(map(int, input().split()))\n",
    "even_array = []\n",
    "odd_array = []\n",
    "for index, value in enumerate(array):\n",
    "    if index % 2 == 0:\n",
    "        even_array.append(value)\n",
    "    else:\n",
    "        odd_array.append(value)\n",
    "# print(even_array)\n",
    "# print(odd_array)\n",
    "even_array_second_maxi = float(\"-inf\")\n",
    "even_array_maxi = float(\"-inf\")\n",
    "\n",
    "for ele in even_array:\n",
    "    if ele > even_array_maxi:\n",
    "        even_array_second_maxi = even_array_maxi\n",
    "        even_array_maxi = ele\n",
    "    elif ele > even_array_second_maxi and ele != even_array_maxi:\n",
    "        even_array_second_maxi = ele\n",
    "value1 = even_array_second_maxi\n",
    "\n",
    "odd_array_second_maxi = float(\"-inf\")\n",
    "odd_array_maxi = float(\"-inf\")\n",
    "\n",
    "for ele in odd_array:\n",
    "    if ele > odd_array_maxi:\n",
    "        odd_array_second_maxi = odd_array_maxi\n",
    "        odd_array_maxi = ele\n",
    "    elif ele > odd_array_second_maxi and ele != odd_array_maxi:\n",
    "        odd_array_second_maxi = ele\n",
    "value2 = odd_array_second_maxi\n",
    "\n",
    "print(value1 + value2)"
   ]
  },
  {
   "cell_type": "code",
   "execution_count": 33,
   "id": "e7d66759-d2bc-4c66-81b0-175b8f79be90",
   "metadata": {},
   "outputs": [
    {
     "name": "stdin",
     "output_type": "stream",
     "text": [
      " 3 2 1 7 5 4\n"
     ]
    },
    {
     "name": "stdout",
     "output_type": "stream",
     "text": [
      "7\n"
     ]
    }
   ],
   "source": [
    "# You are required to implement the following Function def LargeSmallSum(arr).\n",
    "# The function accepts an integers arr of size 'length' as its arguments you are required to return the sum of second largest largest element from the even positions and second largest from the odd position of given 'arr'.\n",
    "\n",
    "# Assumption:\n",
    "\n",
    "# All array elements are unique\n",
    "# Treat the Oth position as even\n",
    "\n",
    "# NOTE\n",
    "\n",
    "# Return O if array is empty\n",
    "# Return 0, if array length is 3 or less than 3\n",
    "\n",
    "# Example:-\n",
    "\n",
    "# Input\n",
    "# arr:3 2 1 7 5 4\n",
    "\n",
    "# Output\n",
    "# 7\n",
    "\n",
    "\n",
    "\n",
    "def second_maxi(array):\n",
    "\n",
    "    maxi = float(\"-inf\")\n",
    "    second_maxi = float(\"-inf\")\n",
    "    for ele in array:\n",
    "        if ele > maxi:\n",
    "            second_maxi = maxi\n",
    "            maxi = ele\n",
    "        elif ele > second_maxi and ele != maxi:\n",
    "            second_maxi = ele\n",
    "\n",
    "    if second_maxi == float(\"-inf\"):\n",
    "        return \"No Second_maxi\"\n",
    "    return second_maxi\n",
    "\n",
    "def LargeSmallSum(array):\n",
    "    even_array = array[::2]\n",
    "    odd_array = array[1::2]\n",
    "    return second_maxi(even_array) + second_maxi(odd_array)\n",
    "\n",
    "array = list(map(int, input().split()))\n",
    "print(LargeSmallSum(array))"
   ]
  },
  {
   "cell_type": "code",
   "execution_count": 44,
   "id": "58e26e57-cade-4efa-87fc-1dcaa26c9e41",
   "metadata": {},
   "outputs": [
    {
     "name": "stdin",
     "output_type": "stream",
     "text": [
      " 4 20\n"
     ]
    },
    {
     "name": "stdout",
     "output_type": "stream",
     "text": [
      "90\n"
     ]
    }
   ],
   "source": [
    "# The function def differenceofSum(n. m) accepts two integers n, m as arguments Find the sum of all numbers in range from 1 to m(both inclusive) that are not divisible by n. Return difference between sum of integers not divisible by n with sum of numbers divisible by n.\n",
    "\n",
    "# Assumption:\n",
    "\n",
    "# n>0 and m>0\n",
    "# Sum lies between integral range\n",
    "\n",
    "# Example\n",
    "\n",
    "# Input:\n",
    "# n:4\n",
    "# m:20\n",
    "\n",
    "# Output:\n",
    "# 90\n",
    "\n",
    "# Explanation\n",
    "\n",
    "# Sum of numbers divisible by 4 are 4+8+12+16 + 20 = 60\n",
    "# Sum of numbers not divisible by 4 are 1+2+3+5+6+7+9+10+11+13+14+15+17+ 18+19=150\n",
    "\n",
    "def differenceofSum(n, m):\n",
    "    sum_divisible = 0\n",
    "    sum_not_divisible = 0\n",
    "    \n",
    "    for i in range(1, m + 1):\n",
    "        if i % n == 0:\n",
    "            sum_divisible += i\n",
    "        else:\n",
    "            sum_not_divisible += i\n",
    "    \n",
    "    return sum_not_divisible - sum_divisible\n",
    "\n",
    "n, m = map(int, input().split())\n",
    "print(differenceofSum(n, m))  \n"
   ]
  },
  {
   "cell_type": "code",
   "execution_count": null,
   "id": "7e732ba5-d67a-4e9b-bf97-6ab1d7a82cb1",
   "metadata": {},
   "outputs": [],
   "source": []
  }
 ],
 "metadata": {
  "kernelspec": {
   "display_name": "Python 3 (ipykernel)",
   "language": "python",
   "name": "python3"
  },
  "language_info": {
   "codemirror_mode": {
    "name": "ipython",
    "version": 3
   },
   "file_extension": ".py",
   "mimetype": "text/x-python",
   "name": "python",
   "nbconvert_exporter": "python",
   "pygments_lexer": "ipython3",
   "version": "3.13.5"
  }
 },
 "nbformat": 4,
 "nbformat_minor": 5
}
