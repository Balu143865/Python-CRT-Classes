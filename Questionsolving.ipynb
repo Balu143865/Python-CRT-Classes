{
 "cells": [
  {
   "cell_type": "code",
   "execution_count": 3,
   "id": "af350d28-0631-4ad8-a5ad-32ed59ffbd6b",
   "metadata": {},
   "outputs": [
    {
     "name": "stdin",
     "output_type": "stream",
     "text": [
      " 25 55 62\n"
     ]
    },
    {
     "name": "stdout",
     "output_type": "stream",
     "text": [
      "The largest number is: 62\n"
     ]
    }
   ],
   "source": [
    "# 1st Question\n",
    "a, b, c = map(int, input().split(\" \"))\n",
    "if a > b and a > c:\n",
    "    print(f\"The largest number is: {a}\")\n",
    "elif b > a and b > c:\n",
    "    print(f\"The largest number is: {b}\")\n",
    "else:\n",
    "    print(f\"The largest number is: {c}\")\n",
    "\n",
    "# print(f\"The largest number is: {max(a, b, c)}\")     // Simple print"
   ]
  },
  {
   "cell_type": "code",
   "execution_count": 19,
   "id": "2984f9da-6d1e-448f-83db-ce8345de42fa",
   "metadata": {},
   "outputs": [
    {
     "name": "stdin",
     "output_type": "stream",
     "text": [
      " international\n"
     ]
    },
    {
     "name": "stdout",
     "output_type": "stream",
     "text": [
      "i11l\n"
     ]
    }
   ],
   "source": [
    "# 2nd Question\n",
    "name = input()\n",
    "\n",
    "if len(name) > 10:\n",
    "    print(name[0] + str(len(name)-2) + name[-1])\n",
    "else:\n",
    "    print(name)"
   ]
  },
  {
   "cell_type": "code",
   "execution_count": 20,
   "id": "4e23e0de-4bca-40ef-94f0-f4f4cb547a32",
   "metadata": {},
   "outputs": [
    {
     "name": "stdin",
     "output_type": "stream",
     "text": [
      " BanavathBaluNaik\n"
     ]
    },
    {
     "name": "stdout",
     "output_type": "stream",
     "text": [
      "B14k\n"
     ]
    }
   ],
   "source": [
    "word = input()\n",
    "if len(word) > 10:\n",
    "    print(word[0] + str(len(word) - 2) + word[-1])\n",
    "else:\n",
    "    print(word)"
   ]
  },
  {
   "cell_type": "code",
   "execution_count": 23,
   "id": "daff6da5-3b00-451b-a7ad-accd2353fd38",
   "metadata": {},
   "outputs": [
    {
     "name": "stdin",
     "output_type": "stream",
     "text": [
      " banavathbalunaik\n"
     ]
    },
    {
     "name": "stdout",
     "output_type": "stream",
     "text": [
      "b14k\n"
     ]
    }
   ],
   "source": [
    "string = input()\n",
    "if len(string) > 10:\n",
    "    first = string[0]\n",
    "    last = string[-1]\n",
    "    middle = len(string)-2\n",
    "    print(first + str(middle) + last)\n",
    "else:\n",
    "    print(string)"
   ]
  },
  {
   "cell_type": "code",
   "execution_count": 4,
   "id": "9552c63e-a31a-44ba-abae-61852ef90edb",
   "metadata": {},
   "outputs": [
    {
     "name": "stdout",
     "output_type": "stream",
     "text": [
      "Special Characters\n"
     ]
    }
   ],
   "source": [
    "string = \"RKCE1234@gmail.com\"\n",
    "if not (string.isalnum()):\n",
    "    print(\"Special Characters\")\n",
    "else:\n",
    "    print(\"not\")"
   ]
  },
  {
   "cell_type": "code",
   "execution_count": 5,
   "id": "1cbee76c-0594-4a97-9f36-c3a139107dce",
   "metadata": {},
   "outputs": [
    {
     "name": "stdout",
     "output_type": "stream",
     "text": [
      "True\n"
     ]
    }
   ],
   "source": [
    "string = \"RKCE1234@gmail.com\"\n",
    "print(not(string.isalnum()))"
   ]
  },
  {
   "cell_type": "code",
   "execution_count": 12,
   "id": "f3ee8296-231c-4dc9-a49b-103352fd9f69",
   "metadata": {},
   "outputs": [
    {
     "name": "stdout",
     "output_type": "stream",
     "text": [
      "not\n"
     ]
    }
   ],
   "source": [
    "string = \"RKCE\"\n",
    "if not (string.isalpha() or string.isdigit()):\n",
    "    print(\"special characters\")\n",
    "else:\n",
    "    print(\"not\")"
   ]
  },
  {
   "cell_type": "code",
   "execution_count": 9,
   "id": "f959ad6e-c425-4cf8-bd9f-cb55d30fd259",
   "metadata": {},
   "outputs": [
    {
     "name": "stdout",
     "output_type": "stream",
     "text": [
      "False\n"
     ]
    }
   ],
   "source": [
    "string = \"A\"\n",
    "print(string.isalpha())"
   ]
  },
  {
   "cell_type": "code",
   "execution_count": 11,
   "id": "ccffc866-2628-447e-beca-4896094abf62",
   "metadata": {},
   "outputs": [
    {
     "name": "stdout",
     "output_type": "stream",
     "text": [
      "False\n"
     ]
    }
   ],
   "source": [
    "string = \"A\"\n",
    "print(string.isdigit())"
   ]
  },
  {
   "cell_type": "code",
   "execution_count": 13,
   "id": "a17b9b8c-f067-441c-a8e1-0ca568a5ac3e",
   "metadata": {},
   "outputs": [
    {
     "name": "stdout",
     "output_type": "stream",
     "text": [
      "special characters\n"
     ]
    }
   ],
   "source": [
    "string = \"balunaikbanavath662@gmail.com\"\n",
    "if not(string.isalnum()):\n",
    "    print(\"special characters\")\n",
    "else:\n",
    "    print(\"not\")"
   ]
  },
  {
   "cell_type": "code",
   "execution_count": 15,
   "id": "03505b77-8142-4d2b-b2ce-dbf524479a68",
   "metadata": {},
   "outputs": [
    {
     "name": "stdin",
     "output_type": "stream",
     "text": [
      " balunaikbanavath662@gmail.com\n"
     ]
    },
    {
     "name": "stdout",
     "output_type": "stream",
     "text": [
      " @.\n"
     ]
    }
   ],
   "source": [
    "# special characters are separate in string\n",
    "string = input()\n",
    "string2 = \" \"\n",
    "for char in string:\n",
    "    if not char.isalnum():\n",
    "        string2 = string2 + char\n",
    "print(string2)"
   ]
  },
  {
   "cell_type": "code",
   "execution_count": 17,
   "id": "023b8b1e-e19d-4234-883f-4dc6cb3c0039",
   "metadata": {},
   "outputs": [
    {
     "name": "stdin",
     "output_type": "stream",
     "text": [
      " balunaik662@gmail.com\n"
     ]
    },
    {
     "name": "stdout",
     "output_type": "stream",
     "text": [
      " 662\n"
     ]
    }
   ],
   "source": [
    "# separate for digits/numbers in string\n",
    "string = input()\n",
    "string2 = \" \"\n",
    "for int in string:\n",
    "    if  int.isdigit():\n",
    "        string2 = string2 + int\n",
    "print(string2)"
   ]
  },
  {
   "cell_type": "code",
   "execution_count": 18,
   "id": "9b29b4d5-f27c-48e6-9a3e-77e2e477659a",
   "metadata": {},
   "outputs": [
    {
     "name": "stdin",
     "output_type": "stream",
     "text": [
      " balunaikbanavath662@gmail.com\n"
     ]
    },
    {
     "name": "stdout",
     "output_type": "stream",
     "text": [
      " balunaikbanavathgmailcom\n"
     ]
    }
   ],
   "source": [
    "# separate for alphabets in string\n",
    "string = input()\n",
    "string2 = \" \"\n",
    "for str in string:\n",
    "    if str.isalpha():\n",
    "        string2 = string2 + str\n",
    "print(string2)"
   ]
  },
  {
   "cell_type": "code",
   "execution_count": 1,
   "id": "43206415-7ed9-402e-a409-745ab6c6a36e",
   "metadata": {},
   "outputs": [
    {
     "name": "stdout",
     "output_type": "stream",
     "text": [
      "1 - 1\n",
      "2 - 4\n",
      "3 - 9\n",
      "4 - 16\n",
      "5 - 25\n"
     ]
    }
   ],
   "source": [
    "# Write a program to output the squares (using multiplication) of numbers from 1 to 5 on separate lines.\n",
    "\n",
    "# [Note: Please print in the same format as given below. There are single spaces between hyphen(-) and digits.]\n",
    "#Output Format\n",
    "# 1 - 1\n",
    "# 2 - 4\n",
    "# 3 - 9\n",
    "# 4 - 16\n",
    "# 5 - 25\n",
    "\n",
    "n = [1,4,9,16,25]\n",
    "for i in range(1,6):\n",
    "    print(i, \"-\", i*i)"
   ]
  },
  {
   "cell_type": "code",
   "execution_count": 6,
   "id": "25e509ec-c01e-4a98-8aa5-1ab433647fe0",
   "metadata": {},
   "outputs": [
    {
     "name": "stdout",
     "output_type": "stream",
     "text": [
      "****\n",
      "****\n",
      "****\n",
      "****\n"
     ]
    }
   ],
   "source": [
    "# Write a program to output the square of * (stars) of size 4 (check the output below).\n",
    "n = 4\n",
    "for i in range(n):\n",
    "    for j in range(n):\n",
    "        print(\"*\", end=\"\")\n",
    "    print()"
   ]
  },
  {
   "cell_type": "code",
   "execution_count": 4,
   "id": "1250bf90-b8b1-454d-a221-c562467cc6fd",
   "metadata": {},
   "outputs": [
    {
     "name": "stdout",
     "output_type": "stream",
     "text": [
      "Amount = 15000.00\n",
      "Discount= 4500.00\n",
      "Final price = 10500.00\n"
     ]
    }
   ],
   "source": [
    "# Discount calculation\n",
    "amount = 15000.00\n",
    "\n",
    "if amount > 10000:\n",
    "    discount = amount * 30 / 100\n",
    "elif amount > 5000:\n",
    "    discount = amount * 20 / 100\n",
    "elif amount > 1000:\n",
    "    discount = amount * 10 / 100\n",
    "else:\n",
    "    discount = 0\n",
    "final_amount = amount - discount\n",
    "\n",
    "print(f\"Amount = {amount:.2f}\")\n",
    "print(f\"Discount= {discount:.2f}\")\n",
    "print(f\"Final price = {final_amount:.2f}\")"
   ]
  },
  {
   "cell_type": "code",
   "execution_count": 10,
   "id": "f37cfa00-cc73-4d61-be85-87bc9ec23d03",
   "metadata": {},
   "outputs": [
    {
     "name": "stdout",
     "output_type": "stream",
     "text": [
      "u\n",
      "t\n",
      "s\n",
      "a\n",
      "v\n",
      "Index : 0, Char: u\n",
      "Index : 1, Char: t\n",
      "Index : 2, Char: s\n",
      "Index : 3, Char: a\n",
      "Index : 4, Char: v\n"
     ]
    },
    {
     "data": {
      "text/plain": [
       "True"
      ]
     },
     "execution_count": 10,
     "metadata": {},
     "output_type": "execute_result"
    }
   ],
   "source": [
    "s = \"utsav\"\n",
    "\n",
    "# Iterating\n",
    "for char in s:\n",
    "    print(char)\n",
    "\n",
    "# Iterating with index\n",
    "for i, char in enumerate(s):\n",
    "    print(f\"Index : {i}, Char: {char}\")\n",
    "\n",
    "# Slicing\n",
    "x = s[2:4] # Return \"sa\"\n",
    "\n",
    "# Sorting\n",
    "x = sorted(s) # Returns ['a', 's', 't', 'u', 'v']\n",
    "x = sorted(s, reverse=True) # Returns ['v', 'u', 't', 's', 'a']\n",
    "\n",
    "# Membership check\n",
    "\"a\" in \"utsav\" # Returns True"
   ]
  },
  {
   "cell_type": "code",
   "execution_count": 11,
   "id": "0e50f5d2-88cb-48e8-9af1-f2e9afacbcc2",
   "metadata": {},
   "outputs": [
    {
     "name": "stdout",
     "output_type": "stream",
     "text": [
      "38890\n",
      "Time taken by the code: 0.020357608795166016 seconds.\n"
     ]
    }
   ],
   "source": [
    "import time\n",
    "start_time = time.time()\n",
    "l = [str(i) for i in range(10000)]\n",
    "st=\"\"\n",
    "for i in l:\n",
    "    st+=i\n",
    "print(len(st))\n",
    "print(\"Time taken by the code: %s seconds.\"% (time.time() - start_time))"
   ]
  },
  {
   "cell_type": "code",
   "execution_count": 12,
   "id": "f1b1b3d0-2c74-446e-8c1d-875ea27e2b0a",
   "metadata": {},
   "outputs": [
    {
     "name": "stdout",
     "output_type": "stream",
     "text": [
      "3.5\n"
     ]
    }
   ],
   "source": [
    "print(7.0/2)"
   ]
  },
  {
   "cell_type": "markdown",
   "id": "c7d5baae-081e-430b-9b5a-3274a56eabe1",
   "metadata": {},
   "source": [
    "# CodeChef Problems"
   ]
  },
  {
   "cell_type": "code",
   "execution_count": 13,
   "id": "f6321e99-8f52-4d19-ac60-f0fa1357e620",
   "metadata": {},
   "outputs": [
    {
     "name": "stdout",
     "output_type": "stream",
     "text": [
      "3\n"
     ]
    }
   ],
   "source": [
    "#Divide Two Variables\n",
    "#Declare two variables x and y, and assign 20 to x and 6 to y.\n",
    "#Divide x by y (i.e., perform integer division x // y) and print the result.\n",
    "\n",
    "x = 20\n",
    "y = 6\n",
    "result =  x // y\n",
    "print(result)"
   ]
  },
  {
   "cell_type": "code",
   "execution_count": 14,
   "id": "88f0f345-5868-4b93-ae2d-af097ad4b9f6",
   "metadata": {},
   "outputs": [
    {
     "name": "stdout",
     "output_type": "stream",
     "text": [
      "Celsius - 25.5\n",
      "Kelvin - 298.5\n"
     ]
    }
   ],
   "source": [
    "# Convert Temperature\n",
    "# Declare a variable \"temperature\" and initialize it with a value of 25.5 (in Celsius) and print it in Celsius and Kelvin (add 273 to the temperature in Celsius).\n",
    "\n",
    "# [Note: Print the output in exactly the same format as given below. There is single space around hyphen(-)]\n",
    "\n",
    "# Output Format\n",
    "# Celsius - 25.5\n",
    "# Kelvin - 298.5\n",
    "\n",
    "temperature = 25.5\n",
    "print(f\"Celsius - {temperature}\")\n",
    "\n",
    "print(f\"Kelvin - {temperature + 273}\")"
   ]
  },
  {
   "cell_type": "code",
   "execution_count": 15,
   "id": "7e2836f1-3f83-415f-a5eb-155acafb875e",
   "metadata": {},
   "outputs": [
    {
     "name": "stdout",
     "output_type": "stream",
     "text": [
      "20.25\n",
      "18.0\n"
     ]
    }
   ],
   "source": [
    "# Area and Perimeter of Square\n",
    "# Write a program to find the area and perimeter of square whose side length is 4.5. On the first line, print square's area and on the second line, its perimeter.\n",
    "\n",
    "# Expected output\n",
    "# 20.25\n",
    "# 18.0\n",
    "\n",
    "# Note:\n",
    "# Area of a Square = side × side\n",
    "# and, Perimeter = 4 x side\n",
    "\n",
    "side = 4.5\n",
    "\n",
    "area = side * side\n",
    "perimeter = 4 * side\n",
    "\n",
    "print(area)\n",
    "print(perimeter)"
   ]
  },
  {
   "cell_type": "code",
   "execution_count": 6,
   "id": "70ce8346-5bd2-488c-a79e-c8fa48a1a55a",
   "metadata": {},
   "outputs": [
    {
     "name": "stdin",
     "output_type": "stream",
     "text": [
      " 5\n",
      " 121 -121 10 0 1221\n"
     ]
    },
    {
     "name": "stdout",
     "output_type": "stream",
     "text": [
      "YES\n",
      "NO\n",
      "NO\n",
      "YES\n",
      "YES\n"
     ]
    }
   ],
   "source": [
    "# Palindrone or not\n",
    "def is_palindrone(n):\n",
    "    if n < 0:\n",
    "        return False\n",
    "    s = str(n)\n",
    "    return s == s[::-1]\n",
    "    \n",
    "n = int(input())\n",
    "numbers = list(map(int, input().split()))\n",
    "for n in numbers:\n",
    "    print(\"YES\" if is_palindrone(n) else \"NO\")\n"
   ]
  },
  {
   "cell_type": "code",
   "execution_count": 7,
   "id": "faa4dc24-c260-4a5c-bc71-923fd69d2370",
   "metadata": {},
   "outputs": [
    {
     "name": "stdin",
     "output_type": "stream",
     "text": [
      " 5\n",
      " 1 2 3 4 5\n"
     ]
    },
    {
     "name": "stdout",
     "output_type": "stream",
     "text": [
      "2\n"
     ]
    }
   ],
   "source": [
    "def count_even_numbers(arr):\n",
    "    even_count = 0\n",
    "    for num in arr:\n",
    "        if num % 2 == 0:\n",
    "            even_count += 1\n",
    "    return even_count\n",
    "\n",
    "n = int(input())\n",
    "arr = list(map(int, input().split()))\n",
    "print(count_even_numbers(arr))\n"
   ]
  },
  {
   "cell_type": "code",
   "execution_count": 8,
   "id": "94ed5feb-7a06-4aa0-8212-d9f24ba72c25",
   "metadata": {},
   "outputs": [
    {
     "name": "stdin",
     "output_type": "stream",
     "text": [
      " 5\n",
      " 1 2 3 4 5\n"
     ]
    },
    {
     "name": "stdout",
     "output_type": "stream",
     "text": [
      "2\n"
     ]
    }
   ],
   "source": [
    "n = int(input())\n",
    "arr = list(map(int, input().split()))\n",
    "even_count = 0\n",
    "for num in arr:\n",
    "    if num % 2 == 0:\n",
    "        even_count += 1\n",
    "print(even_count)\n"
   ]
  },
  {
   "cell_type": "code",
   "execution_count": null,
   "id": "dac41560-af53-4327-a02c-2757c786bb90",
   "metadata": {},
   "outputs": [],
   "source": []
  }
 ],
 "metadata": {
  "kernelspec": {
   "display_name": "Python 3 (ipykernel)",
   "language": "python",
   "name": "python3"
  },
  "language_info": {
   "codemirror_mode": {
    "name": "ipython",
    "version": 3
   },
   "file_extension": ".py",
   "mimetype": "text/x-python",
   "name": "python",
   "nbconvert_exporter": "python",
   "pygments_lexer": "ipython3",
   "version": "3.13.7"
  }
 },
 "nbformat": 4,
 "nbformat_minor": 5
}
