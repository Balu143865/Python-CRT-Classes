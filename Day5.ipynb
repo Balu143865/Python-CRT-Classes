{
 "cells": [
  {
   "cell_type": "code",
   "execution_count": null,
   "id": "80d8f6e3-5a58-45fc-81eb-aeeb31450c1f",
   "metadata": {},
   "outputs": [],
   "source": [
    "# Own code \n",
    "n = 5\n",
    "for rows in range(1, n+1):\n",
    "    for cols in range(1, n+1):\n",
    "        if (rows + cols) % 2 == 0:\n",
    "            print(1, end = \" \")\n",
    "        else:\n",
    "            print(0, end = \" \")\n",
    "    print()"
   ]
  },
  {
   "cell_type": "markdown",
   "id": "35d5ee3b-c41c-4d3e-8907-b6025e298898",
   "metadata": {},
   "source": [
    "# Day5 Strings"
   ]
  },
  {
   "cell_type": "code",
   "execution_count": 2,
   "id": "2edd2d19-fdeb-459c-88e5-368942937336",
   "metadata": {},
   "outputs": [
    {
     "name": "stdout",
     "output_type": "stream",
     "text": [
      "True\n"
     ]
    }
   ],
   "source": [
    "string = \"PYTHON\"\n",
    "print(string.isupper())"
   ]
  },
  {
   "cell_type": "code",
   "execution_count": 4,
   "id": "c41eea75-ce71-430e-9edf-df7b6d47d869",
   "metadata": {},
   "outputs": [
    {
     "name": "stdout",
     "output_type": "stream",
     "text": [
      "True\n"
     ]
    }
   ],
   "source": [
    "string = \"python\"\n",
    "print(string.islower())"
   ]
  },
  {
   "cell_type": "code",
   "execution_count": 5,
   "id": "5569da9b-06aa-4727-acbb-b3ab2965db31",
   "metadata": {},
   "outputs": [
    {
     "name": "stdout",
     "output_type": "stream",
     "text": [
      "pYTHon\n",
      "python\n"
     ]
    }
   ],
   "source": [
    "string = \"pYTHon\"\n",
    "new_string = string.lower()\n",
    "print(string)\n",
    "print(new_string)"
   ]
  },
  {
   "cell_type": "code",
   "execution_count": 6,
   "id": "398e5560-085b-4ff5-8b5d-cf89001b3d2c",
   "metadata": {},
   "outputs": [
    {
     "name": "stdout",
     "output_type": "stream",
     "text": [
      "pYTHon\n",
      "PYTHON\n"
     ]
    }
   ],
   "source": [
    "string = \"pYTHon\"\n",
    "new_string = string.upper()\n",
    "print(string)\n",
    "print(new_string)"
   ]
  },
  {
   "cell_type": "code",
   "execution_count": 31,
   "id": "3859e5ca-56de-4805-819b-370f36371214",
   "metadata": {},
   "outputs": [
    {
     "name": "stdout",
     "output_type": "stream",
     "text": [
      "65\n",
      "90\n",
      "97\n",
      "98\n",
      "99\n",
      "122\n",
      "49\n",
      "57\n",
      "74\n"
     ]
    }
   ],
   "source": [
    "# A - Z ===> 65 - 90\n",
    "# a -z ===> 97 - 122\n",
    "print(ord(\"A\"))\n",
    "print(ord(\"Z\"))\n",
    "\n",
    "print(ord(\"a\"))\n",
    "print(ord(\"b\"))\n",
    "print(ord(\"c\"))\n",
    "print(ord(\"z\"))\n",
    "\n",
    "\n",
    "print(ord(\"1\"))\n",
    "print(ord(\"9\"))\n",
    "print(ord(\"J\"))"
   ]
  },
  {
   "cell_type": "code",
   "execution_count": 11,
   "id": "4752f97a-72c0-4268-9b29-169c4f37a2b7",
   "metadata": {},
   "outputs": [
    {
     "name": "stdin",
     "output_type": "stream",
     "text": [
      " t\n"
     ]
    },
    {
     "name": "stdout",
     "output_type": "stream",
     "text": [
      "small\n"
     ]
    }
   ],
   "source": [
    "string = input()\n",
    "# if 65 <= ord(string) <= 90:\n",
    "if (ord(string) >= 65) and (ord(string) <= 90):\n",
    "    print(\"Capital\")\n",
    "else:\n",
    "    print(\"small\")\n",
    "    "
   ]
  },
  {
   "cell_type": "code",
   "execution_count": 22,
   "id": "0c3f1892-d726-44f1-a759-e507f18205fa",
   "metadata": {},
   "outputs": [
    {
     "name": "stdin",
     "output_type": "stream",
     "text": [
      " @\n"
     ]
    },
    {
     "name": "stdout",
     "output_type": "stream",
     "text": [
      "special character\n"
     ]
    }
   ],
   "source": [
    "string = input()\n",
    "if (65 <= ord(string) <= 90) or (97 <= ord(string) <= 122):\n",
    "    print(\"Alphabet\")\n",
    "elif 48 <= ord(string) <= 57:\n",
    "    print(\"Number\")\n",
    "else:\n",
    "    print(\"special character\")"
   ]
  },
  {
   "cell_type": "code",
   "execution_count": 25,
   "id": "cbb96785-9cd5-411c-bc7a-6d8b3b748b77",
   "metadata": {},
   "outputs": [
    {
     "name": "stdin",
     "output_type": "stream",
     "text": [
      " Rkce123@gmail.com\n"
     ]
    },
    {
     "name": "stdout",
     "output_type": "stream",
     "text": [
      "R - Alphabet\n",
      "k - Alphabet\n",
      "c - Alphabet\n",
      "e - Alphabet\n",
      "1 - Number\n",
      "2 - Number\n",
      "3 - Number\n",
      "@ - special character\n",
      "g - Alphabet\n",
      "m - Alphabet\n",
      "a - Alphabet\n",
      "i - Alphabet\n",
      "l - Alphabet\n",
      ". - special character\n",
      "c - Alphabet\n",
      "o - Alphabet\n",
      "m - Alphabet\n"
     ]
    }
   ],
   "source": [
    "# its can represents the separate letters in which type \n",
    "string = input()\n",
    "for char in string:\n",
    "    if (65 <= ord(char) <= 90) or (97 <= ord(char) <= 122):\n",
    "        print(f\"{char} - Alphabet\")\n",
    "    elif 48 <= ord(char) <= 57:\n",
    "        print(f\"{char} - Number\")\n",
    "    else:\n",
    "        print(f\"{char} - special character\")\n",
    "    "
   ]
  },
  {
   "cell_type": "code",
   "execution_count": null,
   "id": "9b9cdaa0-fd37-497f-b6b8-70fe7ba1fc8b",
   "metadata": {},
   "outputs": [],
   "source": [
    "# its can represents the every one in counts / aphabets, numbers, special characters\n",
    "string = input()\n",
    "for char in string:\n",
    "    if (65 <= ord(char) <= 90) or (97 <= ord(char) <= 122):\n",
    "        "
   ]
  },
  {
   "cell_type": "code",
   "execution_count": 30,
   "id": "f406af7e-0f21-471c-98a4-54cf1cc06c91",
   "metadata": {},
   "outputs": [
    {
     "name": "stdin",
     "output_type": "stream",
     "text": [
      " a\n"
     ]
    },
    {
     "name": "stdout",
     "output_type": "stream",
     "text": [
      "Lower\n"
     ]
    }
   ],
   "source": [
    "char = input()\n",
    "asci = ord(char)\n",
    "if asci >= 65 and asci <= 90:\n",
    "    print(\"Upper\")\n",
    "else:\n",
    "    print(\"Lower\")"
   ]
  },
  {
   "cell_type": "code",
   "execution_count": 50,
   "id": "80cffdbc-5f5c-458c-85db-901b5ea08b1e",
   "metadata": {},
   "outputs": [
    {
     "name": "stdin",
     "output_type": "stream",
     "text": [
      " rkce@gmail.com123\n"
     ]
    },
    {
     "name": "stdout",
     "output_type": "stream",
     "text": [
      "Alphabet\n",
      "Alphabet\n",
      "Alphabet\n",
      "Alphabet\n",
      "special character\n",
      "Alphabet\n",
      "Alphabet\n",
      "Alphabet\n",
      "Alphabet\n",
      "Alphabet\n",
      "special character\n",
      "Alphabet\n",
      "Alphabet\n",
      "Alphabet\n",
      "Digit\n",
      "Digit\n",
      "Digit\n"
     ]
    }
   ],
   "source": [
    "char = input()\n",
    "asci = ord(char)\n",
    "if (asci >= 65 and asci <= 90) or (asci >= 97 and asci <= 122):\n",
    "    print(\"Alphabet\")\n",
    "elif (asci >= 48 and asci <= 57):\n",
    "    print(\"Digit\")\n",
    "else:\n",
    "    print(\"special character\")"
   ]
  },
  {
   "cell_type": "code",
   "execution_count": 52,
   "id": "60f3fbc4-c2e2-44e7-b580-6151852dcba5",
   "metadata": {},
   "outputs": [
    {
     "name": "stdin",
     "output_type": "stream",
     "text": [
      " rkce123\n"
     ]
    },
    {
     "name": "stdout",
     "output_type": "stream",
     "text": [
      "r - Alphabet\n",
      "k - Alphabet\n",
      "c - Alphabet\n",
      "e - Alphabet\n",
      "1 -Digit\n",
      "2 -Digit\n",
      "3 -Digit\n"
     ]
    }
   ],
   "source": [
    "string = input()\n",
    "for char in string:\n",
    "    asci = ord(char)\n",
    "    if (asci >= 65 and asci <= 90) or (asci >= 97 and asci <= 122):\n",
    "        print(f\"{char} - Alphabet\")\n",
    "    elif (asci >= 48 and asci <= 57):\n",
    "        print(f\"{char} - Digit\")\n",
    "    else:\n",
    "        print(f\"{char} - special character\")"
   ]
  },
  {
   "cell_type": "code",
   "execution_count": 58,
   "id": "0cf85dc2-bfee-43ee-9edd-428e5e926146",
   "metadata": {},
   "outputs": [
    {
     "name": "stdin",
     "output_type": "stream",
     "text": [
      " asdf1234@#$%.com\n"
     ]
    },
    {
     "name": "stdout",
     "output_type": "stream",
     "text": [
      "alphabets found in asdf1234@#$%.com are : 7\n",
      "digit found in asdf1234@#$%.com are : 4\n",
      "special characters found in asdf1234@#$%.com are : 5\n"
     ]
    }
   ],
   "source": [
    "# its can represents the every one in counts / aphabets, numbers, special characters\n",
    "string = input()\n",
    "alpha_count = 0\n",
    "digit_count = 0\n",
    "sc_count = 0\n",
    "for char in string:\n",
    "    asci = ord(char)\n",
    "    if (asci >= 65 and asci <= 90) or (asci >= 97 and asci <= 122):\n",
    "        # print(f\"{char} - Alphabet\")\n",
    "        alpha_count += 1\n",
    "    elif (asci >= 48 and asci <= 57):\n",
    "        # print(f\"{char} - Digit\")\n",
    "        digit_count += 1\n",
    "    else:\n",
    "        # print(f\"{char} - special character\")\n",
    "        sc_count += 1\n",
    "print(f\"\"\"alphabets found in {string} are : {alpha_count}\n",
    "digit found in {string} are : {digit_count}\n",
    "special characters found in {string} are : {sc_count}\"\"\")"
   ]
  },
  {
   "cell_type": "code",
   "execution_count": 60,
   "id": "bb504f5e-f675-4937-bd7a-16c1a723b393",
   "metadata": {},
   "outputs": [
    {
     "name": "stdout",
     "output_type": "stream",
     "text": [
      "83\n",
      "73\n"
     ]
    }
   ],
   "source": [
    "print(ord(\"S\"))\n",
    "print(ord(\"I\"))"
   ]
  },
  {
   "cell_type": "code",
   "execution_count": 63,
   "id": "df1fcd05-46e4-47a8-b3d1-5487d89e6056",
   "metadata": {},
   "outputs": [
    {
     "name": "stdout",
     "output_type": "stream",
     "text": [
      "66\n",
      "65\n",
      "76\n",
      "85\n"
     ]
    }
   ],
   "source": [
    "print(ord(\"B\"))\n",
    "print(ord(\"A\"))\n",
    "print(ord(\"L\"))\n",
    "print(ord(\"U\"))"
   ]
  },
  {
   "cell_type": "code",
   "execution_count": 78,
   "id": "fc7ecd9a-7e2c-4b66-ab4c-2765835fd423",
   "metadata": {},
   "outputs": [
    {
     "name": "stdin",
     "output_type": "stream",
     "text": [
      " BALU\n"
     ]
    },
    {
     "name": "stdout",
     "output_type": "stream",
     "text": [
      "292\n"
     ]
    }
   ],
   "source": [
    "# add the asci value in name\n",
    "string = input()\n",
    "sum = 0 \n",
    "for char in string:\n",
    "    if 65 <= ord(char) <= 90 or 97 <= ord(char) <= 122:\n",
    "        sum = sum + ord(char)\n",
    "print(sum)"
   ]
  },
  {
   "cell_type": "code",
   "execution_count": 79,
   "id": "af4c6f11-b5c5-4d42-84d5-5a7cba9334f7",
   "metadata": {},
   "outputs": [
    {
     "name": "stdin",
     "output_type": "stream",
     "text": [
      " AJAY\n"
     ]
    },
    {
     "name": "stdout",
     "output_type": "stream",
     "text": [
      "293\n"
     ]
    }
   ],
   "source": [
    "name = input()\n",
    "summ = 0\n",
    "for char in name:\n",
    "    summ += ord(char)\n",
    "print(summ)"
   ]
  },
  {
   "cell_type": "markdown",
   "id": "eb880f9b-46de-49d5-88bb-7b49b692a2df",
   "metadata": {},
   "source": [
    "# Dictionaries"
   ]
  },
  {
   "cell_type": "code",
   "execution_count": 80,
   "id": "d89f7bdb-3ca8-42a5-abd6-0c5844c938f0",
   "metadata": {},
   "outputs": [
    {
     "name": "stdout",
     "output_type": "stream",
     "text": [
      "{'Fruit': ['Mango', 'Banana'], 'Flower': ['Rose', 'Lotus']}\n",
      "{'India, USA': 'Countries', ('New Delhi', 'New York'): 'Capitals'}\n"
     ]
    }
   ],
   "source": [
    "d1 = {\"Fruit\":[\"Mango\",\"Banana\"], \"Flower\":[\"Rose\", \"Lotus\"]}\n",
    "d2 = {('India, USA'):'Countries', ('New Delhi', 'New York'):'Capitals'}\n",
    "print (d1)\n",
    "print (d2)"
   ]
  },
  {
   "cell_type": "code",
   "execution_count": 83,
   "id": "17cfca22-1c77-40a1-bedb-9f0dc28ae281",
   "metadata": {},
   "outputs": [
    {
     "name": "stdout",
     "output_type": "stream",
     "text": [
      "{1: 'one', 2: 'two'}\n",
      "{'English': 45, 'Telugu': 50}\n"
     ]
    }
   ],
   "source": [
    "numbers = {1:\"one\", 2:\"two\"}\n",
    "marks = {\"English\":45, \"Telugu\":50}\n",
    "print(numbers)\n",
    "print(marks)"
   ]
  },
  {
   "cell_type": "code",
   "execution_count": 85,
   "id": "7c591f5f-392a-455f-a344-c1779e95eec9",
   "metadata": {},
   "outputs": [
    {
     "name": "stdout",
     "output_type": "stream",
     "text": [
      "Balu Naik\n"
     ]
    }
   ],
   "source": [
    "# find out the key or value\n",
    "hashmap = {\n",
    "    \"name\": \"Balu Naik\",\n",
    "    \"location\": \"Macherla\"\n",
    "}\n",
    "print(hashmap[\"name\"])"
   ]
  },
  {
   "cell_type": "code",
   "execution_count": 86,
   "id": "d881ffd5-32c9-4c5e-a7e1-1a4131aac891",
   "metadata": {},
   "outputs": [
    {
     "name": "stdout",
     "output_type": "stream",
     "text": [
      "Balu Naik\n",
      "Macherla\n"
     ]
    }
   ],
   "source": [
    "# how to find in key in dictionaries\n",
    "hashmap = {\n",
    "    \"name\": \"Balu Naik\",\n",
    "    \"location\": \"Macherla\"\n",
    "}\n",
    "for key in hashmap.keys():\n",
    "    print(hashmap[key])"
   ]
  },
  {
   "cell_type": "code",
   "execution_count": 87,
   "id": "c3401f2d-e91a-42f9-b91e-a11e7b17f945",
   "metadata": {},
   "outputs": [
    {
     "name": "stdout",
     "output_type": "stream",
     "text": [
      "Balu Naik\n",
      "Macherla\n"
     ]
    }
   ],
   "source": [
    "# how to find in values in dictionaries\n",
    "hashmap = {\n",
    "    \"name\": \"Balu Naik\",\n",
    "    \"location\": \"Macherla\"\n",
    "}\n",
    "for value in hashmap.values():\n",
    "    print(value)"
   ]
  },
  {
   "cell_type": "code",
   "execution_count": 88,
   "id": "4fa0ad2d-5c06-4c7e-a1b8-18da35bb9728",
   "metadata": {},
   "outputs": [
    {
     "name": "stdout",
     "output_type": "stream",
     "text": [
      "name\n",
      "location\n"
     ]
    }
   ],
   "source": [
    "# how to find in only keys\n",
    "hashmap = {\n",
    "    \"name\": \"Balu Naik\",\n",
    "    \"location\": \"Macherla\"\n",
    "}\n",
    "for key in hashmap.keys():\n",
    "    print(key)"
   ]
  },
  {
   "cell_type": "code",
   "execution_count": 89,
   "id": "bf869114-042d-4aee-851b-a721e39fe351",
   "metadata": {},
   "outputs": [
    {
     "name": "stdout",
     "output_type": "stream",
     "text": [
      "name - Balu Naik\n",
      "location - Macherla\n"
     ]
    }
   ],
   "source": [
    "# how to enters string in dictionaries key and values in format\n",
    "hashmap = {\n",
    "    \"name\": \"Balu Naik\",\n",
    "    \"location\": \"Macherla\"\n",
    "}\n",
    "for key, value in hashmap.items():\n",
    "    print(f\"{key} - {value}\")"
   ]
  },
  {
   "cell_type": "code",
   "execution_count": 90,
   "id": "9eb63fbe-e5a1-402e-9fae-1af743954b30",
   "metadata": {},
   "outputs": [
    {
     "name": "stdout",
     "output_type": "stream",
     "text": [
      "not found\n"
     ]
    }
   ],
   "source": [
    "# how to enter invalid string in dictionaries\n",
    "hashmap = {\n",
    "    \"name\": \"Balu Naik\",\n",
    "    \"location\": \"Macherla\"\n",
    "}\n",
    "print(hashmap.get(\"age\", \"not found\"))"
   ]
  },
  {
   "cell_type": "code",
   "execution_count": 94,
   "id": "113bf66b-d32b-4c8d-bf2d-1847a868f320",
   "metadata": {},
   "outputs": [
    {
     "name": "stdin",
     "output_type": "stream",
     "text": [
      " college\n"
     ]
    },
    {
     "name": "stdout",
     "output_type": "stream",
     "text": [
      "{'c': 1, 'o': 1, 'l': 2, 'e': 2, 'g': 1}\n"
     ]
    }
   ],
   "source": [
    "# how to find number of strings in same letter\n",
    "string = input()\n",
    "hashmap = {}\n",
    "for char in string:\n",
    "    if char in hashmap.keys():\n",
    "        hashmap[char] += 1\n",
    "    else:\n",
    "        hashmap[char] = 1\n",
    "print(hashmap)"
   ]
  },
  {
   "cell_type": "code",
   "execution_count": 10,
   "id": "7de2e384-d944-41e5-83f2-a5c701dca616",
   "metadata": {},
   "outputs": [
    {
     "name": "stdin",
     "output_type": "stream",
     "text": [
      " 10 20 30 40 20 30 40\n"
     ]
    },
    {
     "name": "stdout",
     "output_type": "stream",
     "text": [
      "{10: 1, 20: 2, 30: 2, 40: 2}\n"
     ]
    }
   ],
   "source": [
    "# how to find in taken values or keys that can construct the ratio value how many times in numbers can there\n",
    "name = map(int, input().split())\n",
    "hashmap = {}\n",
    "for array in name:\n",
    "    if array in hashmap.keys():\n",
    "        hashmap[array] = hashmap[array] + 1\n",
    "    else:\n",
    "        hashmap[array] = 1\n",
    "print(hashmap)"
   ]
  },
  {
   "cell_type": "code",
   "execution_count": 12,
   "id": "44ae61f9-577e-4d46-a7ff-ef4739307cab",
   "metadata": {},
   "outputs": [
    {
     "name": "stdout",
     "output_type": "stream",
     "text": [
      "{1: 1, 2: 2, 3: 3}\n"
     ]
    }
   ],
   "source": [
    "array = [1,2,2,3,3,3]\n",
    "hashmap = {}\n",
    "for ele in array:\n",
    "    if ele in hashmap.keys():\n",
    "        hashmap[ele] += 1\n",
    "    else:\n",
    "        hashmap[ele] = 1\n",
    "print(hashmap)"
   ]
  },
  {
   "cell_type": "code",
   "execution_count": 15,
   "id": "7f1ca6c9-2788-4dcb-8cc7-9759c5c0405d",
   "metadata": {},
   "outputs": [
    {
     "name": "stdin",
     "output_type": "stream",
     "text": [
      " 1 2 2 2 3 3\n"
     ]
    },
    {
     "name": "stdout",
     "output_type": "stream",
     "text": [
      "2\n"
     ]
    }
   ],
   "source": [
    "# it can represents to find out the hightest repeated values can print\n",
    "array = list(map(int, input().split()))\n",
    "hashmap = {}\n",
    "for ele in array:\n",
    "    if ele in hashmap.keys():\n",
    "        hashmap[ele] += 1\n",
    "    else:\n",
    "        hashmap[ele] = 1\n",
    "res = []\n",
    "maxi = max(hashmap.values())\n",
    "for key, value in hashmap.items():\n",
    "    if maxi == value:\n",
    "        res.append(key)\n",
    "print(min(res))"
   ]
  },
  {
   "cell_type": "code",
   "execution_count": 26,
   "id": "c2cb36f5-f4ba-40fc-8259-7c44d876cb97",
   "metadata": {},
   "outputs": [
    {
     "name": "stdin",
     "output_type": "stream",
     "text": [
      " college\n"
     ]
    },
    {
     "name": "stdout",
     "output_type": "stream",
     "text": [
      "c1o1l2e2g1\n"
     ]
    }
   ],
   "source": [
    "# Input: abab\n",
    "# Output: a2b2\n",
    "string = input()\n",
    "hashmap = {}\n",
    "array = []\n",
    "for ele in string:\n",
    "    if ele in hashmap:\n",
    "        hashmap[ele] += 1\n",
    "    else:\n",
    "        hashmap[ele] = 1\n",
    "    if ele not in array:\n",
    "        array.append(ele)\n",
    "new_string = \"\"\n",
    "for ele in array:\n",
    "    new_string += str(ele) + str(hashmap[ele])\n",
    "\n",
    "print(new_string)"
   ]
  },
  {
   "cell_type": "code",
   "execution_count": 38,
   "id": "8af855d7-5e3d-47db-814b-5544ef19fdb1",
   "metadata": {},
   "outputs": [
    {
     "name": "stdout",
     "output_type": "stream",
     "text": [
      "{'city': 'macherla', 'age': 23, 'location': 'Ibm'}\n"
     ]
    }
   ],
   "source": [
    "# update()\n",
    "d = {\"city\": \"hyd\"}\n",
    "d.update({\"city\": \"macherla\", \"age\": 23 , \"location\": \"Ibm\"})\n",
    "print(d)"
   ]
  },
  {
   "cell_type": "code",
   "execution_count": 39,
   "id": "a40b05b6-9924-4dc9-87f2-5397bb5f1a13",
   "metadata": {},
   "outputs": [
    {
     "name": "stdout",
     "output_type": "stream",
     "text": [
      "23\n"
     ]
    }
   ],
   "source": [
    "# pop()\n",
    "print(d.pop(\"age\"))"
   ]
  },
  {
   "cell_type": "code",
   "execution_count": 41,
   "id": "c8029b5c-27c4-4f29-9e67-56d95cad972c",
   "metadata": {},
   "outputs": [
    {
     "name": "stdout",
     "output_type": "stream",
     "text": [
      "N/A\n"
     ]
    }
   ],
   "source": [
    "print(d.pop(\"gender\", \"N/A\"))"
   ]
  },
  {
   "cell_type": "code",
   "execution_count": 42,
   "id": "0295d81e-f0b2-455e-8901-a9578239ed37",
   "metadata": {},
   "outputs": [
    {
     "name": "stdout",
     "output_type": "stream",
     "text": [
      "('location', 'Ibm')\n"
     ]
    }
   ],
   "source": [
    "# popitem()\n",
    "print(d.popitem())"
   ]
  },
  {
   "cell_type": "code",
   "execution_count": 43,
   "id": "7f89c65a-5f05-41fc-966b-38bb8bd9a5ff",
   "metadata": {},
   "outputs": [
    {
     "name": "stdout",
     "output_type": "stream",
     "text": [
      "{}\n"
     ]
    }
   ],
   "source": [
    "# clear()\n",
    "d.clear()\n",
    "print(d)"
   ]
  },
  {
   "cell_type": "code",
   "execution_count": 44,
   "id": "56370346-1a48-4a3a-b721-ad9cd13dc82e",
   "metadata": {},
   "outputs": [
    {
     "name": "stdout",
     "output_type": "stream",
     "text": [
      "{'a': 1, 'b': 2}\n"
     ]
    }
   ],
   "source": [
    "# copy()\n",
    "d1 = {\"a\": 1, \"b\": 2}\n",
    "d2 = d1.copy()\n",
    "print(d2)"
   ]
  },
  {
   "cell_type": "code",
   "execution_count": 45,
   "id": "43320818-5b33-4d0c-b77a-f41f6f757e03",
   "metadata": {},
   "outputs": [
    {
     "name": "stdout",
     "output_type": "stream",
     "text": [
      "22\n",
      "{'name': 'Balu', 'age': 22}\n"
     ]
    }
   ],
   "source": [
    "# setdefault(key, default)\n",
    "d = {\"name\": \"Balu\"}\n",
    "print(d.setdefault(\"age\", 22))\n",
    "print(d)"
   ]
  },
  {
   "cell_type": "code",
   "execution_count": 49,
   "id": "5f0364c3-ae8f-4bee-9ec0-4ee00bf80e77",
   "metadata": {},
   "outputs": [
    {
     "name": "stdout",
     "output_type": "stream",
     "text": [
      "{'b': 0, 'a': 0, 'c': 0}\n"
     ]
    }
   ],
   "source": [
    "# fromkeys(keys, value)\n",
    "keys = {\"a\", \"b\", \"c\"}\n",
    "d = dict.fromkeys(keys, 0)\n",
    "print(d)\n"
   ]
  },
  {
   "cell_type": "code",
   "execution_count": null,
   "id": "58bdfab6-2f60-4e2f-bf36-b72af59d642b",
   "metadata": {},
   "outputs": [],
   "source": []
  },
  {
   "cell_type": "markdown",
   "id": "30132b04-342f-46c4-916e-3595f83d2775",
   "metadata": {},
   "source": [
    "# Set Methods"
   ]
  },
  {
   "cell_type": "code",
   "execution_count": null,
   "id": "1980bc9c-e738-4679-a6a8-f9ebb5348365",
   "metadata": {},
   "outputs": [],
   "source": []
  }
 ],
 "metadata": {
  "kernelspec": {
   "display_name": "Python 3 (ipykernel)",
   "language": "python",
   "name": "python3"
  },
  "language_info": {
   "codemirror_mode": {
    "name": "ipython",
    "version": 3
   },
   "file_extension": ".py",
   "mimetype": "text/x-python",
   "name": "python",
   "nbconvert_exporter": "python",
   "pygments_lexer": "ipython3",
   "version": "3.13.7"
  }
 },
 "nbformat": 4,
 "nbformat_minor": 5
}
