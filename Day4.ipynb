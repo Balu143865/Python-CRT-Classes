{
 "cells": [
  {
   "cell_type": "code",
   "execution_count": 2,
   "id": "fa38ebca-b582-48d2-af19-39d6a31c4e00",
   "metadata": {},
   "outputs": [
    {
     "name": "stdout",
     "output_type": "stream",
     "text": [
      "[1, 2, 3, 4, 5, 7]\n"
     ]
    }
   ],
   "source": [
    "# sort to the numbers in ascending order\n",
    "list1 = [1,3,4,5,2,7]\n",
    "list1.sort()\n",
    "print(list1)"
   ]
  },
  {
   "cell_type": "code",
   "execution_count": 3,
   "id": "5dd92177-3f78-4bb1-ad6d-97983ba3adda",
   "metadata": {},
   "outputs": [
    {
     "name": "stdout",
     "output_type": "stream",
     "text": [
      "[7, 2, 5, 4, 3, 1]\n"
     ]
    }
   ],
   "source": [
    "# Reverse of the numbers\n",
    "list1 = [1,3,4,5,2,7]\n",
    "list1.reverse()\n",
    "print(list1)"
   ]
  },
  {
   "cell_type": "code",
   "execution_count": 4,
   "id": "e89d5dbe-1909-484c-a57b-9dc9a0afb6bd",
   "metadata": {},
   "outputs": [
    {
     "name": "stdout",
     "output_type": "stream",
     "text": [
      "6\n",
      "1\n",
      "7\n",
      "22\n"
     ]
    }
   ],
   "source": [
    "list1 = [1,3,4,5,2,7]\n",
    "print(len(list1))\n",
    "print(min(list1))\n",
    "print(max(list1))\n",
    "print(sum(list1))"
   ]
  },
  {
   "cell_type": "code",
   "execution_count": 5,
   "id": "3128a324-d13f-4d11-b957-21c604beb991",
   "metadata": {},
   "outputs": [
    {
     "name": "stdout",
     "output_type": "stream",
     "text": [
      "70\n"
     ]
    }
   ],
   "source": [
    "# 2d elements\n",
    "list1 = [\n",
    "    [10,20,30],\n",
    "    [50,60,70],\n",
    "    [40,80,90]]\n",
    "print(list1[1][2])"
   ]
  },
  {
   "cell_type": "code",
   "execution_count": 7,
   "id": "8008773b-3c4d-4c3d-adc4-1a5acb027af6",
   "metadata": {},
   "outputs": [
    {
     "name": "stdout",
     "output_type": "stream",
     "text": [
      "H\n",
      "d\n"
     ]
    }
   ],
   "source": [
    "# Accessing characters\n",
    "word = \"Hello World\"\n",
    "print(word[0])\n",
    "print(word[-1])"
   ]
  },
  {
   "cell_type": "code",
   "execution_count": 9,
   "id": "5b173019-6a38-444a-8575-5cb788ecbd24",
   "metadata": {},
   "outputs": [
    {
     "name": "stdout",
     "output_type": "stream",
     "text": [
      "n\n",
      "a\n",
      "a\n"
     ]
    }
   ],
   "source": [
    "string = \"PythonClass\"\n",
    "print(string[5])\n",
    "print(string[-3])\n",
    "print(string[len(string)-3])"
   ]
  },
  {
   "cell_type": "code",
   "execution_count": 11,
   "id": "f0e14d88-a6de-4a5b-9647-23be5d7b576a",
   "metadata": {},
   "outputs": [
    {
     "name": "stdout",
     "output_type": "stream",
     "text": [
      "P\n",
      "y\n",
      "t\n",
      "h\n",
      "o\n",
      "n\n",
      "C\n",
      "l\n",
      "a\n",
      "s\n",
      "s\n"
     ]
    }
   ],
   "source": [
    "for index in range(len(string)):\n",
    "    print(string[index])"
   ]
  },
  {
   "cell_type": "code",
   "execution_count": 12,
   "id": "ba89b8ab-6237-4efe-b3ec-aba0401a826e",
   "metadata": {},
   "outputs": [
    {
     "name": "stdout",
     "output_type": "stream",
     "text": [
      "P\n",
      "y\n",
      "t\n",
      "h\n",
      "o\n",
      "n\n",
      "C\n",
      "l\n",
      "a\n",
      "s\n",
      "s\n"
     ]
    }
   ],
   "source": [
    "for char in string:\n",
    "    print(char)"
   ]
  },
  {
   "cell_type": "code",
   "execution_count": 14,
   "id": "4e26a22a-2c71-488f-b284-6b0cda06eb65",
   "metadata": {},
   "outputs": [
    {
     "name": "stdout",
     "output_type": "stream",
     "text": [
      "0 P\n",
      "1 y\n",
      "2 t\n",
      "3 h\n",
      "4 o\n",
      "5 n\n",
      "6 C\n",
      "7 l\n",
      "8 a\n",
      "9 s\n",
      "10 s\n"
     ]
    }
   ],
   "source": [
    "for index, char in enumerate(string):\n",
    "    print(index, char)"
   ]
  },
  {
   "cell_type": "code",
   "execution_count": 16,
   "id": "73bcf104-37f9-4dcd-ab3a-444933d536f7",
   "metadata": {},
   "outputs": [
    {
     "name": "stdout",
     "output_type": "stream",
     "text": [
      "honClass\n",
      "ssalCnohtyP\n",
      "PtoCas\n"
     ]
    }
   ],
   "source": [
    "string = \"PythonClass\"\n",
    "\n",
    "print(string[3:])     # slicing\n",
    "print(string[::-1])    # Reverse\n",
    "print(string[::2])"
   ]
  },
  {
   "cell_type": "code",
   "execution_count": 17,
   "id": "4c28b017-973c-4913-bd28-1ed1c993943c",
   "metadata": {},
   "outputs": [
    {
     "name": "stdout",
     "output_type": "stream",
     "text": [
      "1 0 1 0 1 \n",
      "0 1 0 1 0 \n",
      "1 0 1 0 1 \n",
      "0 1 0 1 0 \n",
      "1 0 1 0 1 \n"
     ]
    }
   ],
   "source": [
    "# Own code \n",
    "n = 5\n",
    "for rows in range(1, n+1):\n",
    "    for cols in range(1, n+1):\n",
    "        if (rows + cols) % 2 == 0:\n",
    "            print(1, end = \" \")\n",
    "        else:\n",
    "            print(0, end = \" \")\n",
    "    print()"
   ]
  },
  {
   "cell_type": "code",
   "execution_count": 18,
   "id": "ddb880de-c2be-4824-b3cf-d92dd5e2ecb5",
   "metadata": {},
   "outputs": [
    {
     "name": "stdout",
     "output_type": "stream",
     "text": [
      "50\n"
     ]
    }
   ],
   "source": [
    "string = \"PythonClass\"\n",
    "location = string.find(\"n\")\n",
    "print(location*10)"
   ]
  },
  {
   "cell_type": "code",
   "execution_count": 21,
   "id": "75462c01-8b8e-42d9-959b-fe6accb81d84",
   "metadata": {},
   "outputs": [
    {
     "name": "stdin",
     "output_type": "stream",
     "text": [
      " nice\n"
     ]
    },
    {
     "name": "stdout",
     "output_type": "stream",
     "text": [
      "0\n"
     ]
    }
   ],
   "source": [
    "string = input()\n",
    "if \"n\" in string:\n",
    "    print(string.find(\"n\")*100)\n",
    "else:\n",
    "    print(-1)"
   ]
  },
  {
   "cell_type": "code",
   "execution_count": 39,
   "id": "09442abd-16df-4cf6-8efd-dc9ca429ffe8",
   "metadata": {},
   "outputs": [
    {
     "name": "stdin",
     "output_type": "stream",
     "text": [
      " Egineering\n"
     ]
    },
    {
     "name": "stdout",
     "output_type": "stream",
     "text": [
      "300\n"
     ]
    }
   ],
   "source": [
    "string = input()\n",
    "if \"n\" in string:\n",
    "    for index, char in enumerate(string):\n",
    "       if char == \"n\":\n",
    "           location = index\n",
    "           break\n",
    "    print(location* 100)\n",
    "else:\n",
    "    print(-1)"
   ]
  },
  {
   "cell_type": "code",
   "execution_count": 41,
   "id": "091a8364-d3e7-4248-aa58-acbdebc42db7",
   "metadata": {},
   "outputs": [
    {
     "name": "stdout",
     "output_type": "stream",
     "text": [
      "Python cls\n",
      "Python Class\n"
     ]
    }
   ],
   "source": [
    "# Replace the strings\n",
    "string = \"Python Class\"\n",
    "string_2 = string.replace(\"Class\", \"cls\")\n",
    "print(string_2)\n",
    "print(string)"
   ]
  },
  {
   "cell_type": "code",
   "execution_count": 42,
   "id": "5916483a-8163-495c-b83e-e79a55e9b8e3",
   "metadata": {},
   "outputs": [
    {
     "name": "stdout",
     "output_type": "stream",
     "text": [
      "['Python', 'Class']\n"
     ]
    }
   ],
   "source": [
    "# Splitting the string\n",
    "string = \"Python Class\"\n",
    "string_list = string.split()\n",
    "print(string_list)"
   ]
  },
  {
   "cell_type": "code",
   "execution_count": 45,
   "id": "ac6e9979-2676-48cb-a2a9-951516f450f5",
   "metadata": {},
   "outputs": [
    {
     "name": "stdout",
     "output_type": "stream",
     "text": [
      "I am in RKCE\n"
     ]
    }
   ],
   "source": [
    "# Join\n",
    "listt = [\"I\", \"am\", \"in\", \"RKCE\"]\n",
    "res = \" \".join(listt)\n",
    "print(res)"
   ]
  },
  {
   "cell_type": "code",
   "execution_count": 46,
   "id": "54172728-6398-4104-bb43-efd507f0990c",
   "metadata": {},
   "outputs": [
    {
     "name": "stdout",
     "output_type": "stream",
     "text": [
      " I am in RKCE \n"
     ]
    }
   ],
   "source": [
    "listt = [\"I\", \"am\", \"in\", \"RKCE\"]\n",
    "new_string = \" \"\n",
    "for i in listt:\n",
    "    new_string = new_string + i + \" \"\n",
    "print(new_string)"
   ]
  },
  {
   "cell_type": "code",
   "execution_count": 48,
   "id": "2fffdd3d-62d0-47f6-ac1b-d6fc85906c63",
   "metadata": {},
   "outputs": [
    {
     "name": "stdout",
     "output_type": "stream",
     "text": [
      "2 0 2 0 2 0 \n",
      "0 2 0 2 0 2 \n",
      "2 0 2 0 2 0 \n",
      "0 2 0 2 0 2 \n",
      "2 0 2 0 2 0 \n",
      "0 2 0 2 0 2 \n"
     ]
    }
   ],
   "source": [
    "n = 6\n",
    "for rows in range(1, n+1):\n",
    "    for cols in range(1, n+1):\n",
    "        if (rows + cols) % 2 == 0:\n",
    "            print(2, end = \" \")\n",
    "        else:\n",
    "            print(0, end = \" \")\n",
    "    print()"
   ]
  },
  {
   "cell_type": "code",
   "execution_count": null,
   "id": "82c898e7-7e78-44ec-9f1d-d18f2ac21bd4",
   "metadata": {},
   "outputs": [],
   "source": []
  }
 ],
 "metadata": {
  "kernelspec": {
   "display_name": "Python 3 (ipykernel)",
   "language": "python",
   "name": "python3"
  },
  "language_info": {
   "codemirror_mode": {
    "name": "ipython",
    "version": 3
   },
   "file_extension": ".py",
   "mimetype": "text/x-python",
   "name": "python",
   "nbconvert_exporter": "python",
   "pygments_lexer": "ipython3",
   "version": "3.13.5"
  }
 },
 "nbformat": 4,
 "nbformat_minor": 5
}
