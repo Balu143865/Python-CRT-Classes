{
 "cells": [
  {
   "cell_type": "code",
   "execution_count": 4,
   "id": "f691683f-a254-443f-b575-77056bb6597f",
   "metadata": {},
   "outputs": [
    {
     "name": "stdout",
     "output_type": "stream",
     "text": [
      "{1, 2, 3, 4}\n",
      "{1, 2, 4}\n",
      "{2, 4}\n"
     ]
    }
   ],
   "source": [
    "hashset = set()\n",
    "hashset.add(1)\n",
    "hashset.add(2)\n",
    "hashset.add(3)\n",
    "hashset.add(4)\n",
    "print(hashset)\n",
    "hashset.remove(3)\n",
    "print(hashset)\n",
    "hashset.pop()\n",
    "print(hashset)"
   ]
  },
  {
   "cell_type": "code",
   "execution_count": 6,
   "id": "f5ea3053-61cd-44fb-95f8-55dba31ed27b",
   "metadata": {},
   "outputs": [
    {
     "name": "stdout",
     "output_type": "stream",
     "text": [
      "{2, 4}\n"
     ]
    }
   ],
   "source": [
    "# discard()\n",
    "hashset.discard(10)\n",
    "print(hashset)"
   ]
  },
  {
   "cell_type": "code",
   "execution_count": 7,
   "id": "53de559e-0c65-4bd2-b73f-e52a7a0db481",
   "metadata": {},
   "outputs": [
    {
     "name": "stdout",
     "output_type": "stream",
     "text": [
      "set()\n"
     ]
    }
   ],
   "source": [
    "# clear() ==> Removes all elements\n",
    "hashset.clear()\n",
    "print(hashset)"
   ]
  },
  {
   "cell_type": "markdown",
   "id": "e0bf35dd-71ff-4c7e-a55f-c6df116a5829",
   "metadata": {},
   "source": [
    "# union(), intersection(), difference(), symmetric_difference()"
   ]
  },
  {
   "cell_type": "code",
   "execution_count": 12,
   "id": "4197c515-4fcb-49ae-bf7f-66990ec62850",
   "metadata": {},
   "outputs": [
    {
     "name": "stdout",
     "output_type": "stream",
     "text": [
      "{1, 2, 3, 4, 5}\n",
      "{3}\n",
      "{1, 2}\n",
      "{1, 2, 4, 5}\n"
     ]
    }
   ],
   "source": [
    "a = {1,2,3}\n",
    "b = {3,4,5}\n",
    "print(a.union(b))\n",
    "print(a.intersection(b))  \n",
    "print(a.difference(b))     #  elements only in first set\n",
    "print(a.symmetric_difference(b))"
   ]
  },
  {
   "cell_type": "markdown",
   "id": "1d082ea9-65ec-416f-a0d0-83c4372ccb23",
   "metadata": {},
   "source": [
    "# issubset(), issuperset(), isdisjoint()"
   ]
  },
  {
   "cell_type": "code",
   "execution_count": 11,
   "id": "50d5b007-d27f-4d0f-8968-9239a96d00c1",
   "metadata": {},
   "outputs": [
    {
     "name": "stdout",
     "output_type": "stream",
     "text": [
      "True\n",
      "True\n",
      "True\n"
     ]
    }
   ],
   "source": [
    "print({1,2}.issubset(a))    # True if all elements are in another set\n",
    "print(a.issuperset({1,2}))  # True if contains another set\n",
    "print(a.isdisjoint({5,6}))   # True if no common elements\n"
   ]
  },
  {
   "cell_type": "markdown",
   "id": "b3c6dc8d-2023-437f-9c4a-8a285eb8cc05",
   "metadata": {},
   "source": [
    "# copy(), update()"
   ]
  },
  {
   "cell_type": "code",
   "execution_count": 16,
   "id": "88a015af-3aa5-4049-b943-67e7143c6abd",
   "metadata": {},
   "outputs": [
    {
     "name": "stdout",
     "output_type": "stream",
     "text": [
      "{1, 2, 3}\n",
      "{1, 2, 3, 6, 7}\n"
     ]
    }
   ],
   "source": [
    "a = {1,2,3}\n",
    "b = {3,4,5}\n",
    "c = a.copy()   # shallow copy\n",
    "print(c)\n",
    "\n",
    "a.update([6,7])    # add multiple elements\n",
    "print(a)"
   ]
  },
  {
   "cell_type": "markdown",
   "id": "8af1b015-4e0c-4bf2-b702-a86f7cf9b59c",
   "metadata": {},
   "source": [
    "# Tuple Methods"
   ]
  },
  {
   "cell_type": "markdown",
   "id": "29a858f1-8919-4bc1-9b67-08fb84b91ef6",
   "metadata": {},
   "source": [
    "# 1) .count(value)"
   ]
  },
  {
   "cell_type": "code",
   "execution_count": 29,
   "id": "6dfdc6a7-f107-4878-926e-1242c1d202e8",
   "metadata": {},
   "outputs": [
    {
     "name": "stdout",
     "output_type": "stream",
     "text": [
      "2\n"
     ]
    }
   ],
   "source": [
    "listt = [10,20,30,40,50,20]\n",
    "print(listt.count(20))"
   ]
  },
  {
   "cell_type": "code",
   "execution_count": 21,
   "id": "67ab6118-683c-4203-8f84-f81cc0321527",
   "metadata": {},
   "outputs": [
    {
     "name": "stdout",
     "output_type": "stream",
     "text": [
      "2\n"
     ]
    }
   ],
   "source": [
    "listt = [10,20,30,40,50,40]\n",
    "count = 0\n",
    "for i in listt:\n",
    "    if i == 40:\n",
    "        count += 1\n",
    "print(count)"
   ]
  },
  {
   "cell_type": "code",
   "execution_count": 30,
   "id": "6af39dbf-fde4-4a3e-a864-578b5a3f2119",
   "metadata": {},
   "outputs": [
    {
     "name": "stdout",
     "output_type": "stream",
     "text": [
      "2\n",
      "2\n"
     ]
    }
   ],
   "source": [
    "# find the index address in tuple\n",
    "listt = [10,20,30,40,50]\n",
    "print(listt.index(30))      \n",
    "for index, value in enumerate(listt):\n",
    "    if value == 30:\n",
    "        print(index)\n",
    "        break"
   ]
  },
  {
   "cell_type": "markdown",
   "id": "3b822596-fcb7-42f9-a4d4-6940d206304b",
   "metadata": {},
   "source": [
    "# Frozenset"
   ]
  },
  {
   "cell_type": "code",
   "execution_count": 31,
   "id": "ce30ed55-d48c-4eb0-9059-31d9d41c03d2",
   "metadata": {},
   "outputs": [
    {
     "name": "stdout",
     "output_type": "stream",
     "text": [
      "frozenset({1, 2, 3, 4, 5})\n",
      "frozenset({3})\n",
      "frozenset({1, 2})\n",
      "frozenset({1, 2, 4, 5})\n"
     ]
    }
   ],
   "source": [
    "a = frozenset([1,2,3])\n",
    "b = frozenset([3,4,5])\n",
    "print(a.union(b))\n",
    "print(a.intersection(b))  \n",
    "print(a.difference(b))     \n",
    "print(a.symmetric_difference(b))"
   ]
  },
  {
   "cell_type": "markdown",
   "id": "499f2e13-e30f-445a-8189-1fdf373a2ede",
   "metadata": {},
   "source": [
    "# Practice Question"
   ]
  },
  {
   "cell_type": "code",
   "execution_count": 44,
   "id": "69d83fb2-156c-4c0d-9ddf-fa1fcfc5efa3",
   "metadata": {},
   "outputs": [
    {
     "name": "stdin",
     "output_type": "stream",
     "text": [
      " 54321\n"
     ]
    },
    {
     "name": "stdout",
     "output_type": "stream",
     "text": [
      "12345\n"
     ]
    }
   ],
   "source": [
    "# Revering a number\n",
    "n = int(input())\n",
    "rev = 0\n",
    "while n > 0:\n",
    "    last = n%10\n",
    "    rev = rev * 10 + last\n",
    "    n = n // 10\n",
    "print(rev)\n",
    "    "
   ]
  },
  {
   "cell_type": "code",
   "execution_count": 46,
   "id": "10f3646a-18ee-495e-bafd-a08cc6f17260",
   "metadata": {},
   "outputs": [
    {
     "name": "stdin",
     "output_type": "stream",
     "text": [
      " 1234\n"
     ]
    },
    {
     "name": "stdout",
     "output_type": "stream",
     "text": [
      "10\n"
     ]
    }
   ],
   "source": [
    "n = int(input())\n",
    "rev = 0\n",
    "while n > 0:\n",
    "    last = n % 10\n",
    "    rev = rev + last\n",
    "    n = n // 10\n",
    "print(rev)"
   ]
  },
  {
   "cell_type": "code",
   "execution_count": 4,
   "id": "2f71e5e9-674d-491d-bd4e-e8b0115adf70",
   "metadata": {},
   "outputs": [
    {
     "name": "stdin",
     "output_type": "stream",
     "text": [
      " 1234\n"
     ]
    },
    {
     "name": "stdout",
     "output_type": "stream",
     "text": [
      "There is only 1 digit in 4\n"
     ]
    }
   ],
   "source": [
    "# count the all numbers\n",
    "n = int(input())\n",
    "count = 0\n",
    "while n > 0:\n",
    "    last = n % 10\n",
    "    count = count + 1\n",
    "    n = n // 10\n",
    "print(f\"There is only 1 digit in {count}\")"
   ]
  },
  {
   "cell_type": "code",
   "execution_count": 16,
   "id": "7af0dbb0-4860-42a6-ae61-e1daf1e41e40",
   "metadata": {},
   "outputs": [
    {
     "name": "stdin",
     "output_type": "stream",
     "text": [
      " 123\n"
     ]
    },
    {
     "name": "stdout",
     "output_type": "stream",
     "text": [
      "not palindrome\n"
     ]
    }
   ],
   "source": [
    "# Palindrome number can check given number palindrome or not\n",
    "n = int(input())\n",
    "rev = 0\n",
    "temp = n\n",
    "while n > 0:\n",
    "    last = n % 10\n",
    "    rev = rev * 10 + last\n",
    "    n = n // 10\n",
    "if temp == rev:\n",
    "    print(\"Palindrome\")\n",
    "else:\n",
    "    print(\"not palindrome\")"
   ]
  },
  {
   "cell_type": "code",
   "execution_count": 29,
   "id": "dfaf661d-2efd-44e1-9894-eeabb766cd6f",
   "metadata": {},
   "outputs": [
    {
     "name": "stdin",
     "output_type": "stream",
     "text": [
      " 123456789\n"
     ]
    },
    {
     "name": "stdout",
     "output_type": "stream",
     "text": [
      "this is even count: 4\n",
      "this is odd count: 5\n"
     ]
    }
   ],
   "source": [
    "# number of even numbers and odd number show on the output\n",
    "n = int(input())\n",
    "count = 0\n",
    "o_count = 0\n",
    "while n > 0:\n",
    "    last = n % 10\n",
    "    \n",
    "    n = n // 10\n",
    "    if last % 2 == 0:\n",
    "        count += 1\n",
    "    else:\n",
    "        o_count += 1\n",
    "# print(f\"it is even count: {count}\")\n",
    "# print(f\"it is odd count: {o_count}\")\n",
    "print(f\"\"\"this is even count: {count}\n",
    "this is odd count: {o_count}\"\"\")"
   ]
  },
  {
   "cell_type": "code",
   "execution_count": null,
   "id": "b260094d-3dd1-49b0-9f4f-cc179a73da3c",
   "metadata": {},
   "outputs": [],
   "source": []
  }
 ],
 "metadata": {
  "kernelspec": {
   "display_name": "Python 3 (ipykernel)",
   "language": "python",
   "name": "python3"
  },
  "language_info": {
   "codemirror_mode": {
    "name": "ipython",
    "version": 3
   },
   "file_extension": ".py",
   "mimetype": "text/x-python",
   "name": "python",
   "nbconvert_exporter": "python",
   "pygments_lexer": "ipython3",
   "version": "3.13.5"
  }
 },
 "nbformat": 4,
 "nbformat_minor": 5
}
