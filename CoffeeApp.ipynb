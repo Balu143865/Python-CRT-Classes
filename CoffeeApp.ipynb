{
 "cells": [
  {
   "cell_type": "code",
   "execution_count": 1,
   "id": "2b9f7b0f-0de8-4389-b438-31585f250604",
   "metadata": {},
   "outputs": [
    {
     "name": "stdout",
     "output_type": "stream",
     "text": [
      "\n",
      "--- Coffee Menu ---\n",
      "1. Espresso - $2.5\n",
      "2. Latte - $3.5\n",
      "3. Cappuccino - $3.0\n",
      "4. Americano - $2.0\n",
      "5. View Order\n",
      "6. Checkout\n",
      "7. Exit\n"
     ]
    },
    {
     "name": "stdin",
     "output_type": "stream",
     "text": [
      "Choose an option:  6\n"
     ]
    },
    {
     "name": "stdout",
     "output_type": "stream",
     "text": [
      "Your cart is empty.\n",
      "\n",
      "--- Coffee Menu ---\n",
      "1. Espresso - $2.5\n",
      "2. Latte - $3.5\n",
      "3. Cappuccino - $3.0\n",
      "4. Americano - $2.0\n",
      "5. View Order\n",
      "6. Checkout\n",
      "7. Exit\n"
     ]
    },
    {
     "name": "stdin",
     "output_type": "stream",
     "text": [
      "Choose an option:  5\n"
     ]
    },
    {
     "name": "stdout",
     "output_type": "stream",
     "text": [
      "No items in order.\n",
      "\n",
      "--- Coffee Menu ---\n",
      "1. Espresso - $2.5\n",
      "2. Latte - $3.5\n",
      "3. Cappuccino - $3.0\n",
      "4. Americano - $2.0\n",
      "5. View Order\n",
      "6. Checkout\n",
      "7. Exit\n"
     ]
    },
    {
     "name": "stdin",
     "output_type": "stream",
     "text": [
      "Choose an option:  2\n"
     ]
    },
    {
     "name": "stdout",
     "output_type": "stream",
     "text": [
      "Added Latte to your order.\n",
      "\n",
      "--- Coffee Menu ---\n",
      "1. Espresso - $2.5\n",
      "2. Latte - $3.5\n",
      "3. Cappuccino - $3.0\n",
      "4. Americano - $2.0\n",
      "5. View Order\n",
      "6. Checkout\n",
      "7. Exit\n"
     ]
    },
    {
     "name": "stdin",
     "output_type": "stream",
     "text": [
      "Choose an option:  1\n"
     ]
    },
    {
     "name": "stdout",
     "output_type": "stream",
     "text": [
      "Added Espresso to your order.\n",
      "\n",
      "--- Coffee Menu ---\n",
      "1. Espresso - $2.5\n",
      "2. Latte - $3.5\n",
      "3. Cappuccino - $3.0\n",
      "4. Americano - $2.0\n",
      "5. View Order\n",
      "6. Checkout\n",
      "7. Exit\n"
     ]
    },
    {
     "name": "stdin",
     "output_type": "stream",
     "text": [
      "Choose an option:  5\n"
     ]
    },
    {
     "name": "stdout",
     "output_type": "stream",
     "text": [
      "\n",
      "Your Order:\n",
      "1. Latte - $3.5\n",
      "2. Espresso - $2.5\n",
      "Total: $6.0\n",
      "\n",
      "\n",
      "--- Coffee Menu ---\n",
      "1. Espresso - $2.5\n",
      "2. Latte - $3.5\n",
      "3. Cappuccino - $3.0\n",
      "4. Americano - $2.0\n",
      "5. View Order\n",
      "6. Checkout\n",
      "7. Exit\n"
     ]
    },
    {
     "name": "stdin",
     "output_type": "stream",
     "text": [
      "Choose an option:  6\n"
     ]
    },
    {
     "name": "stdout",
     "output_type": "stream",
     "text": [
      "\n",
      "Your Order:\n",
      "1. Latte - $3.5\n",
      "2. Espresso - $2.5\n",
      "Total: $6.0\n",
      "\n"
     ]
    },
    {
     "name": "stdin",
     "output_type": "stream",
     "text": [
      "Proceed to checkout? (yes/no):  yes\n"
     ]
    },
    {
     "name": "stdout",
     "output_type": "stream",
     "text": [
      "Order confirmed! Thank you.\n",
      "\n",
      "--- Coffee Menu ---\n",
      "1. Espresso - $2.5\n",
      "2. Latte - $3.5\n",
      "3. Cappuccino - $3.0\n",
      "4. Americano - $2.0\n",
      "5. View Order\n",
      "6. Checkout\n",
      "7. Exit\n"
     ]
    },
    {
     "name": "stdin",
     "output_type": "stream",
     "text": [
      "Choose an option:  5\n"
     ]
    },
    {
     "name": "stdout",
     "output_type": "stream",
     "text": [
      "No items in order.\n",
      "\n",
      "--- Coffee Menu ---\n",
      "1. Espresso - $2.5\n",
      "2. Latte - $3.5\n",
      "3. Cappuccino - $3.0\n",
      "4. Americano - $2.0\n",
      "5. View Order\n",
      "6. Checkout\n",
      "7. Exit\n"
     ]
    },
    {
     "name": "stdin",
     "output_type": "stream",
     "text": [
      "Choose an option:  7\n"
     ]
    },
    {
     "name": "stdout",
     "output_type": "stream",
     "text": [
      "Thanks for visiting. Goodbye!\n"
     ]
    }
   ],
   "source": [
    "# create Coffee App\n",
    "\n",
    "class Coffee:\n",
    "\n",
    "    # initialize coffee with name and price\n",
    "    def __init__(self, name, price):\n",
    "        self.name = name\n",
    "        self.price = price\n",
    "        \n",
    "class Order:\n",
    "\n",
    "    # initialize order with empty list\n",
    "    def __init__(self):\n",
    "        self.items = []\n",
    "\n",
    "    # add coffee to order\n",
    "    def add_item(self, coffee):\n",
    "        self.items.append(coffee)\n",
    "        print(f\"Added {coffee.name} to your order.\")\n",
    "        \n",
    "    # calculate total price\n",
    "    def total(self):\n",
    "        return sum(item.price for item in self.items)\n",
    "        \n",
    "    # show order summary\n",
    "    \n",
    "    def show_order(self):\n",
    "        if not self.items:\n",
    "            print(\"No items in order.\")\n",
    "            return\n",
    "        print(\"\\nYour Order:\")\n",
    "        for i, item in enumerate(self.items, 1):\n",
    "            print(f\"{i}. {item.name} - ${item.price}\")\n",
    "        print(f\"Total: ${self.total()}\\n\")\n",
    "\n",
    "    # handle checkout process\n",
    "\n",
    "    def checkout(self):\n",
    "        if not self.items:\n",
    "            print(f\"Your cart is empty.\")\n",
    "            return\n",
    "        self.show_order()\n",
    "\n",
    "        confirm = input(\"Proceed to checkout? (yes/no): \").strip().lower()\n",
    "\n",
    "        if confirm == 'yes':\n",
    "            print(\"Order confirmed! Thank you.\")\n",
    "            self.items.clear()\n",
    "        else:\n",
    "            print(\"Checkout cancelled.\")\n",
    "\n",
    "# display menu and handle user unput\n",
    "\n",
    "def main():\n",
    "    menu = [\n",
    "        Coffee(\"Espresso\", 2.5),\n",
    "        Coffee(\"Latte\", 3.5),\n",
    "        Coffee(\"Cappuccino\", 3.0),\n",
    "        Coffee(\"Americano\", 2.0)\n",
    "    ]\n",
    "    order = Order()\n",
    "\n",
    "    # User interaction\n",
    "\n",
    "    while True:\n",
    "        print(\"\\n--- Coffee Menu ---\")\n",
    "        for i, coffee in enumerate(menu, 1):\n",
    "            print(f\"{i}. {coffee.name} - ${coffee.price}\")\n",
    "        print(\"5. View Order\")\n",
    "        print(\"6. Checkout\")\n",
    "        print(\"7. Exit\")\n",
    "\n",
    "        choice = input(\"Choose an option: \")\n",
    "        if choice in ['1', '2', '3', '4']:\n",
    "            order.add_item(menu[int(choice) - 1])\n",
    "        elif choice == '5':\n",
    "            order.show_order()\n",
    "        elif choice == '6':\n",
    "            order.checkout()\n",
    "        elif choice == '7':\n",
    "            print(\"Thanks for visiting. Goodbye!\")\n",
    "            break\n",
    "        else:\n",
    "            print(\"Invalid Choice. Try again.\")\n",
    "\n",
    "if __name__ == \"__main__\":\n",
    "    main()"
   ]
  },
  {
   "cell_type": "code",
   "execution_count": null,
   "id": "ecfe2d2f-c48f-4f04-b7fb-27c723bf2a5e",
   "metadata": {},
   "outputs": [],
   "source": []
  }
 ],
 "metadata": {
  "kernelspec": {
   "display_name": "Python 3 (ipykernel)",
   "language": "python",
   "name": "python3"
  },
  "language_info": {
   "codemirror_mode": {
    "name": "ipython",
    "version": 3
   },
   "file_extension": ".py",
   "mimetype": "text/x-python",
   "name": "python",
   "nbconvert_exporter": "python",
   "pygments_lexer": "ipython3",
   "version": "3.13.7"
  }
 },
 "nbformat": 4,
 "nbformat_minor": 5
}
