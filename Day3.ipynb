{
 "cells": [
  {
   "cell_type": "code",
   "execution_count": 4,
   "id": "8cd3176f-e27f-48c4-b13e-816784b5f5d4",
   "metadata": {},
   "outputs": [
    {
     "name": "stdout",
     "output_type": "stream",
     "text": [
      "1\n",
      "2\n",
      "3\n",
      "4\n"
     ]
    }
   ],
   "source": [
    "for i in range(1, 10):\n",
    "    if i == 5:\n",
    "        break\n",
    "    print(i)"
   ]
  },
  {
   "cell_type": "code",
   "execution_count": 8,
   "id": "fcb0bf80-ff54-463b-bd83-ffadc42b2bf1",
   "metadata": {},
   "outputs": [
    {
     "name": "stdin",
     "output_type": "stream",
     "text": [
      " 10\n"
     ]
    },
    {
     "name": "stdout",
     "output_type": "stream",
     "text": [
      "10\n"
     ]
    },
    {
     "name": "stdin",
     "output_type": "stream",
     "text": [
      " -10\n"
     ]
    }
   ],
   "source": [
    "while True:\n",
    "    n = int(input())\n",
    "    if n < 0:\n",
    "        break\n",
    "    else:\n",
    "        print(n)"
   ]
  },
  {
   "cell_type": "code",
   "execution_count": 12,
   "id": "b10f3bda-e774-4574-b7a7-57143ff3315c",
   "metadata": {},
   "outputs": [
    {
     "name": "stdin",
     "output_type": "stream",
     "text": [
      " 10\n"
     ]
    },
    {
     "name": "stdout",
     "output_type": "stream",
     "text": [
      "The entered value is : 10\n"
     ]
    },
    {
     "name": "stdin",
     "output_type": "stream",
     "text": [
      " 20\n"
     ]
    },
    {
     "name": "stdout",
     "output_type": "stream",
     "text": [
      "The entered value is : 20\n"
     ]
    },
    {
     "name": "stdin",
     "output_type": "stream",
     "text": [
      " -5\n"
     ]
    },
    {
     "name": "stdout",
     "output_type": "stream",
     "text": [
      "Loop ends\n"
     ]
    }
   ],
   "source": [
    "while True:\n",
    "    n = int(input())\n",
    "    if n < 0:\n",
    "        print(\"Loop ends\")\n",
    "        break\n",
    "    else:\n",
    "        print(f\"The entered value is : {n}\")"
   ]
  },
  {
   "cell_type": "code",
   "execution_count": 13,
   "id": "4f51235a-a456-46de-a2e7-5c7fda0992ad",
   "metadata": {},
   "outputs": [
    {
     "name": "stdout",
     "output_type": "stream",
     "text": [
      "A\n"
     ]
    }
   ],
   "source": [
    "x = 10\n",
    "if x > 5:\n",
    "    print(\"A\")\n",
    "else:\n",
    "    print(\"B\")"
   ]
  },
  {
   "cell_type": "code",
   "execution_count": 14,
   "id": "012cb8d3-f0b6-4a8e-a2a7-89e847162e35",
   "metadata": {},
   "outputs": [
    {
     "name": "stdout",
     "output_type": "stream",
     "text": [
      "1 2 4 "
     ]
    }
   ],
   "source": [
    "for i in range(1, 5):\n",
    "    if i == 3:\n",
    "        continue\n",
    "    print(i, end=\" \")"
   ]
  },
  {
   "cell_type": "code",
   "execution_count": 16,
   "id": "8c9a3a29-24ae-479a-9fab-ddfcb2f4692d",
   "metadata": {},
   "outputs": [
    {
     "name": "stdout",
     "output_type": "stream",
     "text": [
      "7 6 5 "
     ]
    }
   ],
   "source": [
    "n = 7\n",
    "while n > 0:\n",
    "    if n == 4:\n",
    "        break\n",
    "    print(n, end=\" \")\n",
    "    n -= 1"
   ]
  },
  {
   "cell_type": "code",
   "execution_count": 17,
   "id": "b8ee1f7d-d4cd-422c-9ebf-329c34b6abed",
   "metadata": {},
   "outputs": [
    {
     "name": "stdout",
     "output_type": "stream",
     "text": [
      "C Grade\n"
     ]
    }
   ],
   "source": [
    "marks = 65\n",
    "if marks >= 90:\n",
    "    print(\"A Grade\")\n",
    "elif marks >= 75:\n",
    "    print(\"B Grade\")\n",
    "elif marks >= 60:\n",
    "    print(\"C Grade\")\n",
    "else:\n",
    "    print(\"False\")"
   ]
  },
  {
   "cell_type": "code",
   "execution_count": 19,
   "id": "0c7e79d9-e104-4c87-a97b-06ea1e9356f4",
   "metadata": {},
   "outputs": [
    {
     "name": "stdin",
     "output_type": "stream",
     "text": [
      " 6\n"
     ]
    },
    {
     "name": "stdout",
     "output_type": "stream",
     "text": [
      "Positive\n"
     ]
    }
   ],
   "source": [
    "# 1.Write a program to check whether a number is positive or negative\n",
    "n = int(input())\n",
    "if n > 0:\n",
    "    print(\"Positive\")\n",
    "else:\n",
    "    print(\"Negative\")"
   ]
  },
  {
   "cell_type": "code",
   "execution_count": 21,
   "id": "e6a629c5-55cb-4902-be69-0e9a79fd7558",
   "metadata": {},
   "outputs": [
    {
     "name": "stdin",
     "output_type": "stream",
     "text": [
      " 4\n"
     ]
    },
    {
     "name": "stdout",
     "output_type": "stream",
     "text": [
      "Even\n"
     ]
    }
   ],
   "source": [
    "# 2. Check if a number is even or odd\n",
    "n = int(input())\n",
    "if n % 2 == 0:\n",
    "    print(\"Even\")\n",
    "else:\n",
    "    print(\"Odd\")"
   ]
  },
  {
   "cell_type": "code",
   "execution_count": 22,
   "id": "ca545485-e9a8-4f14-a2da-b4c9d9363fda",
   "metadata": {},
   "outputs": [
    {
     "name": "stdin",
     "output_type": "stream",
     "text": [
      " 45\n",
      " 2\n"
     ]
    },
    {
     "name": "stdout",
     "output_type": "stream",
     "text": [
      "the first number is big: 45\n"
     ]
    }
   ],
   "source": [
    "# 3. Take two numbers as input and print the larger one\n",
    "num1 = int(input())\n",
    "num2 = int(input())\n",
    "if num1 > num2:\n",
    "    print(f\"the first number is big: {num1}\")\n",
    "else:\n",
    "    print(f\"the second number is big: {num2}\")"
   ]
  },
  {
   "cell_type": "code",
   "execution_count": 35,
   "id": "3483e0f7-9708-4e72-9b15-a0eafa30c123",
   "metadata": {},
   "outputs": [
    {
     "name": "stdin",
     "output_type": "stream",
     "text": [
      " 1100\n"
     ]
    },
    {
     "name": "stdout",
     "output_type": "stream",
     "text": [
      "apply 10% discount on the our shopping: 990.0\n"
     ]
    }
   ],
   "source": [
    "# 4. A shop gives a discount of 10% if the bill is more than 1000. Write a program to calculate the final amount\n",
    "amount = int(input())\n",
    "if amount >= 1000:\n",
    "    discount = amount/10\n",
    "    total = amount - discount\n",
    "    print(f\"apply 10% discount on the our shopping: {total}\")\n",
    "else:\n",
    "    print(f\"buy more products: {amount}\")"
   ]
  },
  {
   "cell_type": "code",
   "execution_count": 29,
   "id": "32af3fd6-f9df-4b00-ad04-7c60fc951224",
   "metadata": {},
   "outputs": [
    {
     "name": "stdin",
     "output_type": "stream",
     "text": [
      " 14\n",
      " 34\n"
     ]
    },
    {
     "name": "stdout",
     "output_type": "stream",
     "text": [
      "14 is smaller than 34\n"
     ]
    }
   ],
   "source": [
    "# 5. Take two numbers as input and print the larger one\n",
    "a = int(input())\n",
    "b = int(input())\n",
    "if a > b:\n",
    "    print(f\"{a} is greater than {b}\")\n",
    "else:\n",
    "    print(f\"{a} is smaller than {b}\")"
   ]
  },
  {
   "cell_type": "code",
   "execution_count": 32,
   "id": "d6f4188b-9d31-48e6-96b3-52f3bacc22fe",
   "metadata": {},
   "outputs": [
    {
     "name": "stdin",
     "output_type": "stream",
     "text": [
      " 10 23\n"
     ]
    },
    {
     "name": "stdout",
     "output_type": "stream",
     "text": [
      "10 is smaller than 23\n"
     ]
    }
   ],
   "source": [
    "a, b = map(int, input().split(\" \"))\n",
    "if a > b:\n",
    "    print(f\"{a} is greater than {b}\")\n",
    "else:\n",
    "    print(f\"{a} is smaller than {b}\")"
   ]
  },
  {
   "cell_type": "code",
   "execution_count": 42,
   "id": "a2c74b1a-c381-4257-b417-a51a203aa357",
   "metadata": {},
   "outputs": [
    {
     "name": "stdin",
     "output_type": "stream",
     "text": [
      " 1000\n"
     ]
    },
    {
     "name": "stdout",
     "output_type": "stream",
     "text": [
      "The total bill is:1000 and total bill is: 900.0\n"
     ]
    }
   ],
   "source": [
    "# A shop gives a discount of 10% if the bill is more than 1000. Write a program to calculate the final amount\n",
    "a = int(input())\n",
    "if a >= 1000:\n",
    "    discount = a/10\n",
    "    total = a - discount\n",
    "    print(f\"The total bill is:{a} and total bill is: {total}\")\n",
    "else:\n",
    "    print(\"Your total bill\")"
   ]
  },
  {
   "cell_type": "code",
   "execution_count": 39,
   "id": "ff217ac0-e6f1-4824-bad2-4b3fa2be73bf",
   "metadata": {},
   "outputs": [
    {
     "name": "stdin",
     "output_type": "stream",
     "text": [
      " 1100\n"
     ]
    },
    {
     "name": "stdout",
     "output_type": "stream",
     "text": [
      "990.0\n"
     ]
    }
   ],
   "source": [
    "n = int(input())\n",
    "if n >= 1000:\n",
    "    amount = n*10/100\n",
    "    total = n-amount\n",
    "    print(total)\n",
    "else:\n",
    "    print(\"not found\")"
   ]
  },
  {
   "cell_type": "code",
   "execution_count": 44,
   "id": "7efe20ee-d668-4518-8415-c58f8fc8b395",
   "metadata": {},
   "outputs": [
    {
     "name": "stdin",
     "output_type": "stream",
     "text": [
      " 12\n",
      " 13\n",
      " 14\n"
     ]
    },
    {
     "name": "stdout",
     "output_type": "stream",
     "text": [
      "14 is Greater\n"
     ]
    }
   ],
   "source": [
    "# 6. Input three numbers and find the largest number using Nested if\n",
    "a = int(input())\n",
    "b = int(input())\n",
    "c = int(input())\n",
    "if b > a and b > c:\n",
    "    print(f\"{b} is greater\")\n",
    "else:\n",
    "    print(f\"{c} is Greater\")"
   ]
  },
  {
   "cell_type": "code",
   "execution_count": 48,
   "id": "c6e638b4-0751-42ad-876f-725966eed6f0",
   "metadata": {},
   "outputs": [
    {
     "name": "stdin",
     "output_type": "stream",
     "text": [
      " 100 200 300\n"
     ]
    },
    {
     "name": "stdout",
     "output_type": "stream",
     "text": [
      "300 is Greater\n"
     ]
    }
   ],
   "source": [
    "a, b, c = map(int, input().split())\n",
    "if b > a and b > c:\n",
    "    print(f\"{b} is greater\")\n",
    "else:\n",
    "    print(f\"{c} is Greater\")"
   ]
  },
  {
   "cell_type": "code",
   "execution_count": 61,
   "id": "9f67d07f-a5be-4d9c-b911-bd34e114a4d9",
   "metadata": {},
   "outputs": [
    {
     "name": "stdin",
     "output_type": "stream",
     "text": [
      " 2023\n"
     ]
    },
    {
     "name": "stdout",
     "output_type": "stream",
     "text": [
      "not leap year\n"
     ]
    }
   ],
   "source": [
    "# 7. Check whether a year is a leap year. (divisible by 4, but if divisible by 100 then must also be divisible by 400).\n",
    "n = int(input())\n",
    "if n%4 == 0 and n % 400 == 0:\n",
    "    print(\"leap year\")\n",
    "else:\n",
    "    print(\"not leap year\")"
   ]
  },
  {
   "cell_type": "code",
   "execution_count": 62,
   "id": "68bbe7e2-621e-445f-b649-b5b19fa464bb",
   "metadata": {},
   "outputs": [
    {
     "name": "stdin",
     "output_type": "stream",
     "text": [
      " 2023\n"
     ]
    },
    {
     "name": "stdout",
     "output_type": "stream",
     "text": [
      "not leap year\n"
     ]
    }
   ],
   "source": [
    "n = int(input())\n",
    "if n%100 == 0 and n%400 == 0:\n",
    "    print(\"Leap year\")\n",
    "else:\n",
    "    print(\"not leap year\")"
   ]
  },
  {
   "cell_type": "code",
   "execution_count": 59,
   "id": "2e5a3999-ef4f-4804-99ef-aaa2a03b27d4",
   "metadata": {},
   "outputs": [
    {
     "name": "stdin",
     "output_type": "stream",
     "text": [
      "enter a age: 22\n",
      "enter a gender: male\n"
     ]
    },
    {
     "name": "stdout",
     "output_type": "stream",
     "text": [
      "not eligible\n"
     ]
    }
   ],
   "source": [
    "# 8. Input age and gender, and decide whether the person is eligible for pension\n",
    "# Male: >= 65\n",
    "# female: >= 60\n",
    "age = int(input(\"enter a age:\"))\n",
    "gender = input(\"enter a gender:\")\n",
    "if gender==\"male\" and age >= 65:\n",
    "    print(\"elgible to pension\")\n",
    "elif gender == \"female\" and age >= 60:\n",
    "    print(\"eligible to pension\")\n",
    "else:\n",
    "    print(\"not eligible\")\n",
    "    "
   ]
  },
  {
   "cell_type": "code",
   "execution_count": 63,
   "id": "af0cc20b-8f17-46fe-98b1-99d5ed5ebe08",
   "metadata": {},
   "outputs": [
    {
     "name": "stdin",
     "output_type": "stream",
     "text": [
      " 2023\n"
     ]
    },
    {
     "name": "stdout",
     "output_type": "stream",
     "text": [
      "not leap year\n"
     ]
    }
   ],
   "source": [
    "n = int(input())\n",
    "if n%4 == 0:\n",
    "    print(\"Leap year\")\n",
    "elif n%100 == 0 and n%400 == 0:\n",
    "    print(\"leap year\")\n",
    "else:\n",
    "    print(\"not leap year\")"
   ]
  },
  {
   "cell_type": "code",
   "execution_count": 2,
   "id": "7dae8346-a3c5-4238-a67c-c16c4c47fe91",
   "metadata": {},
   "outputs": [
    {
     "name": "stdout",
     "output_type": "stream",
     "text": [
      "5\n"
     ]
    }
   ],
   "source": [
    "# Lists\n",
    "listt = [10, 20, 30, 40, 50]\n",
    "length = len(listt)\n",
    "print(length)"
   ]
  },
  {
   "cell_type": "code",
   "execution_count": 3,
   "id": "8e4bc33a-64d1-4385-aabb-eb6a82a564e5",
   "metadata": {},
   "outputs": [
    {
     "name": "stdin",
     "output_type": "stream",
     "text": [
      " 10 20 30 40 50\n"
     ]
    },
    {
     "name": "stdout",
     "output_type": "stream",
     "text": [
      "[10, 20, 30, 40, 50]\n",
      "5\n"
     ]
    }
   ],
   "source": [
    "listt = list(map(int, input().split()))\n",
    "print(listt)\n",
    "print(len(listt))"
   ]
  },
  {
   "cell_type": "code",
   "execution_count": 5,
   "id": "a0556b4f-04eb-495f-953b-3b2459f86f65",
   "metadata": {},
   "outputs": [
    {
     "name": "stdin",
     "output_type": "stream",
     "text": [
      " 10 20 30 40 50\n"
     ]
    },
    {
     "name": "stdout",
     "output_type": "stream",
     "text": [
      "list[2]\n",
      "50\n"
     ]
    }
   ],
   "source": [
    "listt = list(map(int, input().split()))\n",
    "print(list[2])\n",
    "print(listt[len(listt)-1])"
   ]
  },
  {
   "cell_type": "code",
   "execution_count": 7,
   "id": "04a4fd4d-3ca7-42ac-a3e5-719f57768d02",
   "metadata": {},
   "outputs": [
    {
     "name": "stdin",
     "output_type": "stream",
     "text": [
      " 10 20 30 40 50\n"
     ]
    },
    {
     "name": "stdout",
     "output_type": "stream",
     "text": [
      "10\n",
      "20\n",
      "30\n",
      "40\n",
      "50\n"
     ]
    }
   ],
   "source": [
    "listt = list(map(int, input().split()))\n",
    "for i in range(len(listt)):\n",
    "    print(listt[i])"
   ]
  },
  {
   "cell_type": "code",
   "execution_count": 8,
   "id": "71e36753-87d3-4fb6-a7a5-daf06f0ee0ac",
   "metadata": {},
   "outputs": [
    {
     "name": "stdout",
     "output_type": "stream",
     "text": [
      "10\n",
      "20\n",
      "30\n",
      "40\n",
      "50\n"
     ]
    }
   ],
   "source": [
    "listt = [10,20,30,40,50]\n",
    "for i in listt:\n",
    "    print(i)"
   ]
  },
  {
   "cell_type": "code",
   "execution_count": 9,
   "id": "d683f98b-4f57-45eb-bb55-b5fb52202d62",
   "metadata": {},
   "outputs": [
    {
     "name": "stdout",
     "output_type": "stream",
     "text": [
      "10 20 30 40 50 "
     ]
    }
   ],
   "source": [
    "listt = [10,20,30,40,50]\n",
    "for ele in listt:\n",
    "    print(ele, end=\" \")"
   ]
  },
  {
   "cell_type": "code",
   "execution_count": 10,
   "id": "d89e9829-1c35-4925-a0d6-c3c4c6e9c07f",
   "metadata": {},
   "outputs": [
    {
     "name": "stdin",
     "output_type": "stream",
     "text": [
      " 10 20 30 40 50\n"
     ]
    },
    {
     "name": "stdout",
     "output_type": "stream",
     "text": [
      "10\n",
      "20\n",
      "30\n",
      "40\n",
      "50\n"
     ]
    }
   ],
   "source": [
    "listt = list(map(int, input().split()))\n",
    "\n",
    "index = 0\n",
    "while index < len(listt):\n",
    "    print(listt[index])\n",
    "    index += 1"
   ]
  },
  {
   "cell_type": "code",
   "execution_count": 11,
   "id": "18fe2e34-7527-4e97-873a-7b9e5328538f",
   "metadata": {},
   "outputs": [
    {
     "name": "stdout",
     "output_type": "stream",
     "text": [
      "0 10\n",
      "1 20\n",
      "2 30\n",
      "3 40\n",
      "4 50\n"
     ]
    }
   ],
   "source": [
    "listt = [10,20,30,40,50]\n",
    "for index, value in enumerate(listt):\n",
    "    print(index, value)"
   ]
  },
  {
   "cell_type": "code",
   "execution_count": 12,
   "id": "78c13165-57ce-4ae9-a6c0-01434e77db5c",
   "metadata": {},
   "outputs": [
    {
     "name": "stdout",
     "output_type": "stream",
     "text": [
      "[20, 30, 40]\n"
     ]
    }
   ],
   "source": [
    "# slicing\n",
    "listt = [10,20,30,40,50]\n",
    "new_list = listt[1:4]\n",
    "print(new_list)"
   ]
  },
  {
   "cell_type": "code",
   "execution_count": 14,
   "id": "4221fd1c-88af-4cdd-b913-794cb2567706",
   "metadata": {},
   "outputs": [
    {
     "name": "stdout",
     "output_type": "stream",
     "text": [
      "[20, 40]\n"
     ]
    }
   ],
   "source": [
    "listt = [10,20,30,40,50]\n",
    "new_list = listt[1::2]\n",
    "print(new_list)"
   ]
  },
  {
   "cell_type": "code",
   "execution_count": 17,
   "id": "dfc966f5-1554-4038-87c3-d2593e310016",
   "metadata": {},
   "outputs": [
    {
     "name": "stdout",
     "output_type": "stream",
     "text": [
      "[50, 40, 30, 20, 10]\n"
     ]
    }
   ],
   "source": [
    "# reversing the number can slicing\n",
    "listt = [10,20,30,40,50]\n",
    "new_list = listt[::-1]\n",
    "print(new_list)"
   ]
  },
  {
   "cell_type": "code",
   "execution_count": 18,
   "id": "13da292f-e7ce-4a4e-8828-1868a8889c04",
   "metadata": {},
   "outputs": [
    {
     "name": "stdout",
     "output_type": "stream",
     "text": [
      "[20, 30, 40]\n"
     ]
    }
   ],
   "source": [
    "nums = [10,20,30,40,50]\n",
    "print(nums[1:4])"
   ]
  },
  {
   "cell_type": "code",
   "execution_count": 21,
   "id": "55926846-2051-4be5-bf07-f073172fb885",
   "metadata": {},
   "outputs": [
    {
     "name": "stdout",
     "output_type": "stream",
     "text": [
      "[10, 20, 30, 60]\n"
     ]
    }
   ],
   "source": [
    "# Adding Items\n",
    "listt = [10,20,30]\n",
    "listt.append(60)\n",
    "print(listt)"
   ]
  },
  {
   "cell_type": "code",
   "execution_count": 24,
   "id": "9780458e-d95f-4796-abc7-7aea5fe98600",
   "metadata": {},
   "outputs": [
    {
     "name": "stdout",
     "output_type": "stream",
     "text": [
      "[10, 20, 40, 30]\n"
     ]
    }
   ],
   "source": [
    "# Inserting the Items\n",
    "listt = [10, 20, 30]\n",
    "listt.insert(2,40)\n",
    "print(listt)"
   ]
  },
  {
   "cell_type": "code",
   "execution_count": 27,
   "id": "f3acebb2-0c78-4886-86b4-7cb487bacd91",
   "metadata": {},
   "outputs": [
    {
     "name": "stdout",
     "output_type": "stream",
     "text": [
      "[10, 20]\n"
     ]
    }
   ],
   "source": [
    "# Removing Items and Pop\n",
    "listt = [10,20,30]\n",
    "listt.pop()\n",
    "print(listt)"
   ]
  },
  {
   "cell_type": "code",
   "execution_count": 28,
   "id": "2aecdc16-1757-4ba1-b123-c95d6ded749f",
   "metadata": {},
   "outputs": [
    {
     "name": "stdout",
     "output_type": "stream",
     "text": [
      "[10, 20, 40]\n"
     ]
    }
   ],
   "source": [
    "listt = [10,20,30,40]\n",
    "listt.remove(30)\n",
    "print(listt)"
   ]
  },
  {
   "cell_type": "code",
   "execution_count": 29,
   "id": "82572ffa-fe84-4a7f-9f00-4489f6920f50",
   "metadata": {},
   "outputs": [
    {
     "name": "stdout",
     "output_type": "stream",
     "text": [
      "140\n"
     ]
    }
   ],
   "source": [
    "popped = listt.pop(2)\n",
    "value = popped + 100\n",
    "print(value)"
   ]
  },
  {
   "cell_type": "code",
   "execution_count": null,
   "id": "3aa88334-1d89-452f-ab9d-c788b36b81f0",
   "metadata": {},
   "outputs": [],
   "source": []
  }
 ],
 "metadata": {
  "kernelspec": {
   "display_name": "Python 3 (ipykernel)",
   "language": "python",
   "name": "python3"
  },
  "language_info": {
   "codemirror_mode": {
    "name": "ipython",
    "version": 3
   },
   "file_extension": ".py",
   "mimetype": "text/x-python",
   "name": "python",
   "nbconvert_exporter": "python",
   "pygments_lexer": "ipython3",
   "version": "3.13.5"
  }
 },
 "nbformat": 4,
 "nbformat_minor": 5
}
