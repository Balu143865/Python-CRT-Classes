{
 "cells": [
  {
   "cell_type": "code",
   "execution_count": 1,
   "id": "924b0fff-27db-494c-b81b-99187bf67624",
   "metadata": {
    "scrolled": true
   },
   "outputs": [
    {
     "name": "stdout",
     "output_type": "stream",
     "text": [
      "Welcome Mr. Banavath \n"
     ]
    }
   ],
   "source": [
    "firstName = \"Banavath\"\n",
    "secondName = \"Balu Naik\"\n",
    "print(f\"Welcome Mr. {firstName} \")"
   ]
  },
  {
   "cell_type": "code",
   "execution_count": 2,
   "id": "43528fc9-7841-480f-91f9-5c3230b36c46",
   "metadata": {},
   "outputs": [
    {
     "name": "stdin",
     "output_type": "stream",
     "text": [
      "Enter your name:  Balu Naik\n",
      "Enter designation (e.g., Principal, Manager):  Principal\n",
      "Enter reason for leave:  Fever\n",
      "Enter start date (DD-MM-YYYY):  12-04-2025\n",
      "Enter end date (DD-MM-YYYY):  15-04-2025\n"
     ]
    },
    {
     "name": "stdout",
     "output_type": "stream",
     "text": [
      "\n",
      "--- Generated Leave Letter ---\n",
      "\n",
      "To\n",
      "The Principal,\n",
      "\n",
      "Subject: Leave Application\n",
      "\n",
      "Respected Sir/Madam,\n",
      "\n",
      "I am Balu Naik, and I would like to request leave from 12-04-2025 to 15-04-2025\n",
      "due to Fever. Kindly grant me permission for the mentioned leave period.\n",
      "\n",
      "I assure you that I will complete my pending tasks once I return.\n",
      "\n",
      "Thanking you.\n",
      "\n",
      "Yours faithfully,\n",
      "Balu Naik\n",
      "\n"
     ]
    }
   ],
   "source": [
    "# Leave Letter Generator\n",
    "\n",
    "def generate_leave_letter(name, to_whom, reason, start_date, end_date):\n",
    "    letter = f\"\"\"\n",
    "To\n",
    "The {to_whom},\n",
    "\n",
    "Subject: Leave Application\n",
    "\n",
    "Respected Sir/Madam,\n",
    "\n",
    "I am {name}, and I would like to request leave from {start_date} to {end_date}\n",
    "due to {reason}. Kindly grant me permission for the mentioned leave period.\n",
    "\n",
    "I assure you that I will complete my pending tasks once I return.\n",
    "\n",
    "Thanking you.\n",
    "\n",
    "Yours faithfully,\n",
    "{name}\n",
    "\"\"\"\n",
    "    return letter\n",
    "\n",
    "\n",
    "# Example usage\n",
    "name = input(\"Enter your name: \")\n",
    "to_whom = input(\"Enter designation (e.g., Principal, Manager): \")\n",
    "reason = input(\"Enter reason for leave: \")\n",
    "start_date = input(\"Enter start date (DD-MM-YYYY): \")\n",
    "end_date = input(\"Enter end date (DD-MM-YYYY): \")\n",
    "\n",
    "print(\"\\n--- Generated Leave Letter ---\")\n",
    "print(generate_leave_letter(name, to_whom, reason, start_date, end_date))\n"
   ]
  },
  {
   "cell_type": "code",
   "execution_count": null,
   "id": "325b70c6-72fb-4dbd-a9a1-841e822767a3",
   "metadata": {},
   "outputs": [],
   "source": []
  }
 ],
 "metadata": {
  "kernelspec": {
   "display_name": "Python 3 (ipykernel)",
   "language": "python",
   "name": "python3"
  },
  "language_info": {
   "codemirror_mode": {
    "name": "ipython",
    "version": 3
   },
   "file_extension": ".py",
   "mimetype": "text/x-python",
   "name": "python",
   "nbconvert_exporter": "python",
   "pygments_lexer": "ipython3",
   "version": "3.13.7"
  }
 },
 "nbformat": 4,
 "nbformat_minor": 5
}
