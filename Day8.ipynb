{
 "cells": [
  {
   "cell_type": "markdown",
   "id": "dbb0e279-d262-4579-a7c1-16c02fffff68",
   "metadata": {},
   "source": [
    "# Problem Practice"
   ]
  },
  {
   "cell_type": "code",
   "execution_count": 5,
   "id": "4b8aa10b-9198-40c3-84fc-0649d132871c",
   "metadata": {},
   "outputs": [
    {
     "name": "stdin",
     "output_type": "stream",
     "text": [
      " 7\n",
      "Enter numbers:  1 2 3 4 6 7 8\n"
     ]
    },
    {
     "name": "stdout",
     "output_type": "stream",
     "text": [
      "Missing number is: 5\n"
     ]
    }
   ],
   "source": [
    "# Finding missing numbers\n",
    "\n",
    "# Input:\n",
    "# 7\n",
    "# 1 2 3 4 6 7 8\n",
    "\n",
    "# output:\n",
    "# 5\n",
    "\n",
    "\n",
    "def find_missing_number(n, nums):\n",
    "    n = max(nums)   \n",
    "    total_sum = n * (n + 1) // 2\n",
    "    actual_sum = sum(nums)\n",
    "    return total_sum - actual_sum\n",
    "\n",
    "n = input(\"Enter n value:\")\n",
    "nums = list(map(int, input(\"Enter numbers:\").split()))\n",
    "print(\"Missing number is:\", find_missing_number(n, nums))\n"
   ]
  },
  {
   "cell_type": "code",
   "execution_count": 17,
   "id": "d7192e68-671c-468c-87cb-5b792cc5eef4",
   "metadata": {},
   "outputs": [
    {
     "name": "stdin",
     "output_type": "stream",
     "text": [
      " 7\n",
      " 1 2 3 4 6 7 8\n"
     ]
    },
    {
     "name": "stdout",
     "output_type": "stream",
     "text": [
      "5\n"
     ]
    }
   ],
   "source": [
    "# Method 2\n",
    "def missing_number(n, array):\n",
    "    original_sum = ((n+1) * (n+2)) // 2\n",
    "\n",
    "    actual_sum = 0\n",
    "    for i in array:\n",
    "        actual_sum += i\n",
    "\n",
    "    ans = original_sum - actual_sum\n",
    "    return ans\n",
    "\n",
    "n = int(input())\n",
    "array = list(map(int, input().split()))\n",
    "print(missing_number(n, array))"
   ]
  },
  {
   "cell_type": "code",
   "execution_count": 30,
   "id": "fcfb1753-7909-4923-8f39-c1c4f4739e96",
   "metadata": {},
   "outputs": [
    {
     "name": "stdin",
     "output_type": "stream",
     "text": [
      " 5\n"
     ]
    },
    {
     "name": "stdout",
     "output_type": "stream",
     "text": [
      "16\n"
     ]
    }
   ],
   "source": [
    "def birthday_edward(n):\n",
    "    # original_cut = (n * (n+1) // 2) + 1\n",
    "    # actual_cut = 0\n",
    "    # return original_cut - actual_cut\n",
    "    cuts = 0\n",
    "    for i in range(n):\n",
    "        cuts = (n * (n+1) // 2) + 1\n",
    "        result = cuts % 100000007\n",
    "    return result\n",
    "    \n",
    "n = int(input())\n",
    "print(birthday_edward(n))"
   ]
  },
  {
   "cell_type": "code",
   "execution_count": 32,
   "id": "dd0f09fa-08b4-40c4-8c1e-1ee66c29f71d",
   "metadata": {},
   "outputs": [
    {
     "name": "stdin",
     "output_type": "stream",
     "text": [
      " 5\n"
     ]
    },
    {
     "name": "stdout",
     "output_type": "stream",
     "text": [
      "16\n"
     ]
    }
   ],
   "source": [
    "# Simple method\n",
    "\n",
    "def cake_cutting(n):\n",
    "    return(((n) * (n+1))//2) + 1 \n",
    "\n",
    "n = int(input())\n",
    "print(cake_cutting(n))\n"
   ]
  },
  {
   "cell_type": "code",
   "execution_count": 44,
   "id": "b205fcf2-fe0c-4abe-8492-a54007ab5c82",
   "metadata": {},
   "outputs": [
    {
     "name": "stdin",
     "output_type": "stream",
     "text": [
      " 2\n"
     ]
    },
    {
     "name": "stdout",
     "output_type": "stream",
     "text": [
      "4\n"
     ]
    }
   ],
   "source": [
    "def plane_cutting(n):\n",
    "    return (((n) * n // 2)) + 2\n",
    "\n",
    "n = int(input())\n",
    "print(plane_cutting(n))"
   ]
  },
  {
   "cell_type": "markdown",
   "id": "4a69464e-4716-488d-be87-0f74c01cdaee",
   "metadata": {},
   "source": [
    "# HCF Solving"
   ]
  },
  {
   "cell_type": "code",
   "execution_count": 9,
   "id": "6a5e209e-1821-4239-8bce-04d66dcb215f",
   "metadata": {},
   "outputs": [
    {
     "name": "stdin",
     "output_type": "stream",
     "text": [
      " 8 12\n"
     ]
    },
    {
     "name": "stdout",
     "output_type": "stream",
     "text": [
      "4\n"
     ]
    }
   ],
   "source": [
    "# it can be represents the HCF\n",
    "def hcf(a, b):\n",
    "    # n = 1\n",
    "    # for i in range(1, min(a,b)+1):\n",
    "    #     if a % i == 0 and b % i == 0:\n",
    "    if a < b:\n",
    "        a, b = b, a % b\n",
    "    while b:\n",
    "        a, b = b, a % b\n",
    "    return a\n",
    "            \n",
    "\n",
    "a, b = map(int, input().split())\n",
    "print(hcf(a, b))"
   ]
  },
  {
   "cell_type": "code",
   "execution_count": 8,
   "id": "cd384feb-dafb-4354-b42e-39d73d2082dd",
   "metadata": {},
   "outputs": [
    {
     "name": "stdin",
     "output_type": "stream",
     "text": [
      "Enter two numbers:  8 12\n"
     ]
    },
    {
     "name": "stdout",
     "output_type": "stream",
     "text": [
      "HCF of 8 and 12 is: 4\n"
     ]
    }
   ],
   "source": [
    "# it can be represents the to find out the HCF using while loop in functions for python\n",
    "def hcf(a, b):\n",
    "    \n",
    "    while b != 0:           # 12 = 8 * 1 + 4\n",
    "        a, b = b, a % b     # 8 = 4 * 2 + 0\n",
    "    return a\n",
    "\n",
    "\n",
    "x, y = map(int, input(\"Enter two numbers: \").split())\n",
    "\n",
    "print(\"HCF of\", x, \"and\", y, \"is:\", hcf(x, y))\n"
   ]
  },
  {
   "cell_type": "code",
   "execution_count": 7,
   "id": "110ccc09-eaac-4709-93e2-018a1fe2dc69",
   "metadata": {},
   "outputs": [
    {
     "name": "stdin",
     "output_type": "stream",
     "text": [
      "Enter two numbers:  12 8\n"
     ]
    },
    {
     "name": "stdout",
     "output_type": "stream",
     "text": [
      "HCF of 12 and 8 is: 4\n"
     ]
    }
   ],
   "source": [
    "# it can be represents the to find out the HCF using for loop in functions for python\n",
    "def hcf(a, b):\n",
    "    \n",
    "    small = min(a, b) # chinna number HCF kante ekkuva undadu\n",
    "    h = 1     \n",
    "    for i in range(1, small + 1):  # 1 nundi chinna number varaku check chestam\n",
    "        if a % i == 0 and b % i == 0:   # rendu numbers ni divide chesthe remainder 0 vaste, adi common factor.\n",
    "            h = i      # loop lo last common factor store chestam and same HCF\n",
    "    return h\n",
    "\n",
    "# Input\n",
    "x, y = map(int, input(\"Enter two numbers: \").split())\n",
    "\n",
    "print(\"HCF of\", x, \"and\", y, \"is:\", hcf(x, y))\n"
   ]
  },
  {
   "cell_type": "code",
   "execution_count": 15,
   "id": "def8cd37-bcea-4b73-bed0-a65f6fae16cc",
   "metadata": {},
   "outputs": [
    {
     "name": "stdin",
     "output_type": "stream",
     "text": [
      " 8 12\n"
     ]
    },
    {
     "name": "stdout",
     "output_type": "stream",
     "text": [
      "24\n"
     ]
    }
   ],
   "source": [
    "def HCF(a, b):\n",
    "    if a < b :\n",
    "        a, b = b, a\n",
    "    while b :\n",
    "        a, b = b, a%b\n",
    "    return a\n",
    "\n",
    "#  it can be represents to find out the LCM\n",
    "def lcm(a, b):\n",
    "    return ((a*b)//HCF(a, b))\n",
    "\n",
    "a, b = map(int, input().split())\n",
    "print(lcm(a, b))"
   ]
  },
  {
   "cell_type": "code",
   "execution_count": 19,
   "id": "19710d75-eb32-4654-a53b-bbc07d2480f3",
   "metadata": {},
   "outputs": [
    {
     "name": "stdin",
     "output_type": "stream",
     "text": [
      "Enter arr values: 1 4 6 7 10 12 11 5\n",
      "Enter n value: 8\n"
     ]
    },
    {
     "name": "stdout",
     "output_type": "stream",
     "text": [
      "24\n"
     ]
    }
   ],
   "source": [
    "# It can be represents the Sum of all odd integers in an array and return the same\n",
    "def SumOddIntegers(n,arr):\n",
    "    sum_odd = 0\n",
    "    for num in arr:\n",
    "        if num % 2 != 0:\n",
    "            sum_odd += num\n",
    "    return sum_odd\n",
    "\n",
    "# arr = [1, 4, 6, 7, 10, 12, 11, 5]\n",
    "arr = list(map(int, input(\"Enter array values:\").split()))\n",
    "n = int(input(\"Enter n value:\"))\n",
    "print(SumOddIntegers(n,arr))\n",
    "\n",
    "# Explaination: The odd integers in array {1,4,6,7,10,12,11,5} are {1,7,11,5} and their sum is 24, hence returned"
   ]
  },
  {
   "cell_type": "code",
   "execution_count": 12,
   "id": "8845c678-2564-4648-b4e1-5694a0fcba09",
   "metadata": {},
   "outputs": [
    {
     "name": "stdout",
     "output_type": "stream",
     "text": [
      "a1 -> Black\n",
      "c1 -> Black\n",
      "d4 -> Black\n",
      "b3 -> White\n",
      "e8 -> White\n"
     ]
    }
   ],
   "source": [
    "# It can be represents the to find out the chess colors for black and white\n",
    "def chess_colors(positions):\n",
    "    results = []\n",
    "    for pos in positions:\n",
    "        file = pos[0].lower()\n",
    "        rank = int(pos[1])\n",
    "        file_number = ord(file) - ord(\"a\") + 1\n",
    "\n",
    "        if (file_number + rank) % 2 == 0:\n",
    "            results.append(f\"{pos} -> Black\")\n",
    "        else:\n",
    "            results.append(f\"{pos} -> White\")\n",
    "    return results\n",
    "\n",
    "inputs = [\"a1\", \"c1\", \"d4\", \"b3\", \"e8\"]\n",
    "outputs = chess_colors(inputs)\n",
    "\n",
    "for res in outputs:\n",
    "    print(res)"
   ]
  },
  {
   "cell_type": "code",
   "execution_count": null,
   "id": "19738b73-5126-4c1e-bba5-1a895e1b1100",
   "metadata": {},
   "outputs": [],
   "source": []
  }
 ],
 "metadata": {
  "kernelspec": {
   "display_name": "Python 3 (ipykernel)",
   "language": "python",
   "name": "python3"
  },
  "language_info": {
   "codemirror_mode": {
    "name": "ipython",
    "version": 3
   },
   "file_extension": ".py",
   "mimetype": "text/x-python",
   "name": "python",
   "nbconvert_exporter": "python",
   "pygments_lexer": "ipython3",
   "version": "3.13.7"
  }
 },
 "nbformat": 4,
 "nbformat_minor": 5
}
